{
  "nbformat": 4,
  "nbformat_minor": 0,
  "metadata": {
    "colab": {
      "provenance": [],
      "authorship_tag": "ABX9TyP7NN/+dfFV1UuoGOYXzNbM",
      "include_colab_link": true
    },
    "kernelspec": {
      "name": "python3",
      "display_name": "Python 3"
    },
    "language_info": {
      "name": "python"
    }
  },
  "cells": [
    {
      "cell_type": "markdown",
      "metadata": {
        "id": "view-in-github",
        "colab_type": "text"
      },
      "source": [
        "<a href=\"https://colab.research.google.com/github/MartaGacek1/MonteCarloProject2/blob/main/MonteCarloProjekt2.ipynb\" target=\"_parent\"><img src=\"https://colab.research.google.com/assets/colab-badge.svg\" alt=\"Open In Colab\"/></a>"
      ]
    },
    {
      "cell_type": "markdown",
      "source": [
        "# Projekt II - Wprowadzenie do symulacji i metod Monte Carlo\n",
        "\n",
        "## Marta Gacek"
      ],
      "metadata": {
        "id": "89PQrxQASVoX"
      }
    },
    {
      "cell_type": "code",
      "source": [
        "import numpy as np\n",
        "import matplotlib.pyplot as plt\n",
        "import scipy as sc\n",
        "import time\n",
        "import math\n",
        "\n",
        "np.random.seed(123)\n",
        "\n",
        "S_0 = 100\n",
        "K = 100\n",
        "r = 0.05\n",
        "sigma = 0.25\n",
        "R = 100000"
      ],
      "metadata": {
        "id": "rnwdFoheSY87"
      },
      "execution_count": 9,
      "outputs": []
    },
    {
      "cell_type": "markdown",
      "source": [
        "## 1. Prawdziwa wartość opcji\n",
        "\n",
        "Ta wartość zostanie wykorzystana do porównywania wyników w przypadkach gdy $n=1$ dla różnych estymatorów."
      ],
      "metadata": {
        "id": "PjJBfANJ-8q7"
      }
    },
    {
      "cell_type": "code",
      "source": [
        "d1 = (np.log(S_0/K) + r + sigma**2/2)/sigma\n",
        "d2 = d1 - sigma\n",
        "real = S_0 * sc.stats.norm.cdf(d1) - K * np.exp(-r) * sc.stats.norm.cdf(d2)\n",
        "print(real)"
      ],
      "metadata": {
        "colab": {
          "base_uri": "https://localhost:8080/"
        },
        "id": "NRL3M5_K_A30",
        "outputId": "941e86f6-1c9b-45d3-a63d-b1a4591c3d5b"
      },
      "execution_count": 2,
      "outputs": [
        {
          "output_type": "stream",
          "name": "stdout",
          "text": [
            "12.335998930368717\n"
          ]
        }
      ]
    },
    {
      "cell_type": "markdown",
      "source": [
        "## 2. Crude Monte Carlo Estimator"
      ],
      "metadata": {
        "id": "ogdI1bzQS177"
      }
    },
    {
      "cell_type": "markdown",
      "source": [
        "### Przypadek $n=1$"
      ],
      "metadata": {
        "id": "x-FbryzAzbYY"
      }
    },
    {
      "cell_type": "code",
      "source": [
        "import numpy as np\n",
        "\n",
        "start_time = time.time()\n",
        "\n",
        "z = np.random.normal(0, 1, R)  # zmienne z rozkładu standardowego normalnego\n",
        "S_T = S_0 * np.exp(r - (sigma**2)/2 + sigma * z)  # geometryczny ruch Browna\n",
        "y = np.maximum(S_T - K, 0)\n",
        "est_I = np.exp(-r) * np.mean(y)\n",
        "\n",
        "print(f\"Estymowana wartość opcji dla n=1 to: {est_I:.4f}\")\n",
        "\n",
        "end_time = time.time()\n",
        "execution_time = end_time - start_time\n",
        "print(f\"Czas wykonania: {execution_time:.6f} sekund\")"
      ],
      "metadata": {
        "colab": {
          "base_uri": "https://localhost:8080/"
        },
        "id": "dZnZNnVmS-6E",
        "outputId": "cc336019-976d-4161-b431-b40dc468a689"
      },
      "execution_count": 3,
      "outputs": [
        {
          "output_type": "stream",
          "name": "stdout",
          "text": [
            "Estymowana wartość opcji dla n=1 to: 12.3620\n",
            "Czas wykonania: 0.014682 sekund\n"
          ]
        }
      ]
    },
    {
      "cell_type": "code",
      "source": [
        "# Przedział ufności\n",
        "\n",
        "alpha = 0.05\n",
        "sig = np.var(y)\n",
        "left = est_I - (sc.stats.norm.ppf(1-alpha/2) * np.sqrt(sig)/np.sqrt(R))\n",
        "right = est_I + (sc.stats.norm.ppf(1-alpha/2) * np.sqrt(sig)/np.sqrt(R))\n",
        "conf_interval = [left, right]\n",
        "print(conf_interval)\n",
        "print(f\"Szerokość przedziału ufności: {right-left:.4f}\")"
      ],
      "metadata": {
        "colab": {
          "base_uri": "https://localhost:8080/"
        },
        "id": "l_MGOI4m27u3",
        "outputId": "98e24112-980c-4238-f239-6b997c4531ca"
      },
      "execution_count": 4,
      "outputs": [
        {
          "output_type": "stream",
          "name": "stdout",
          "text": [
            "[12.241388377432854, 12.482647664847947]\n",
            "Szerokość przedziału ufności: 0.2413\n"
          ]
        }
      ]
    },
    {
      "cell_type": "code",
      "source": [
        "# Błąd bezwzględny\n",
        "\n",
        "error = np.abs(est_I - real)\n",
        "print(f\"Błąd bezwzględny: {error:.4f}\")"
      ],
      "metadata": {
        "id": "mptzpMuqWJ6Y",
        "outputId": "00d7f31a-7879-49f8-87ac-0c3ff23c41e2",
        "colab": {
          "base_uri": "https://localhost:8080/"
        }
      },
      "execution_count": 5,
      "outputs": [
        {
          "output_type": "stream",
          "name": "stdout",
          "text": [
            "Błąd bezwzględny: 0.0260\n"
          ]
        }
      ]
    },
    {
      "cell_type": "markdown",
      "source": [
        "### Przypadek $n > 1$"
      ],
      "metadata": {
        "id": "Am0oDSZX1Buj"
      }
    },
    {
      "cell_type": "code",
      "source": [
        "n1 = 2\n",
        "n2 = 2**2\n",
        "n3 = 2**4\n",
        "n4 = 2**6\n",
        "n5 = 2**8\n",
        "n6 = 2**10\n",
        "\n",
        "ests = []\n",
        "\n",
        "def est(n, S_0 = 100, K = 100, r = 0.05, sigma = 0.25, R = 100000):\n",
        "  step = 1/n\n",
        "  z = np.random.normal(0, 1, (R, n))\n",
        "  prices = np.zeros((R, n))\n",
        "  prices[:, 0] = S_0\n",
        "  for t in range(1, n):\n",
        "    prices[:, t] = prices[:, t-1] * np.exp((r - sigma**2/2) * step + sigma * np.sqrt(step) * z[:, t-1])  # geometryczny ruch Browna\n",
        "  A_n = np.mean(prices, axis=1)\n",
        "  y = np.maximum(A_n - K, 0)\n",
        "  est_I = np.exp(-r) * np.mean(y)\n",
        "  ests.append(est_I)\n",
        "  print(f\"Estymowana wartość opcji dla n={n} wynosi: {est_I:.4f}\")"
      ],
      "metadata": {
        "id": "Q-k93rEC8fCb"
      },
      "execution_count": 29,
      "outputs": []
    },
    {
      "cell_type": "code",
      "source": [
        "start_time = time.time()\n",
        "print(est(n1))\n",
        "end_time = time.time()\n",
        "execution_time = end_time - start_time\n",
        "print(f\"Czas wykonania: {execution_time:.6f} sekund\")"
      ],
      "metadata": {
        "colab": {
          "base_uri": "https://localhost:8080/"
        },
        "id": "mWjBJr3CIlc8",
        "outputId": "799c26e1-b2e1-4e3e-a1cb-0fbaa353efcc"
      },
      "execution_count": 30,
      "outputs": [
        {
          "output_type": "stream",
          "name": "stdout",
          "text": [
            "Estymowana wartość opcji dla n=2 wynosi: 4.0082\n",
            "None\n",
            "Czas wykonania: 0.026139 sekund\n"
          ]
        }
      ]
    },
    {
      "cell_type": "code",
      "source": [
        "start_time = time.time()\n",
        "print(est(n2))\n",
        "end_time = time.time()\n",
        "execution_time = end_time - start_time\n",
        "print(f\"Czas wykonania: {execution_time:.6f} sekund\")"
      ],
      "metadata": {
        "colab": {
          "base_uri": "https://localhost:8080/"
        },
        "id": "k5PeLaxUKfVc",
        "outputId": "948a9f79-7f39-490e-ea85-2a61459a5631"
      },
      "execution_count": 31,
      "outputs": [
        {
          "output_type": "stream",
          "name": "stdout",
          "text": [
            "Estymowana wartość opcji dla n=4 wynosi: 5.4600\n",
            "None\n",
            "Czas wykonania: 0.027267 sekund\n"
          ]
        }
      ]
    },
    {
      "cell_type": "code",
      "source": [
        "start_time = time.time()\n",
        "print(est(n3))\n",
        "end_time = time.time()\n",
        "execution_time = end_time - start_time\n",
        "print(f\"Czas wykonania: {execution_time:.6f} sekund\")"
      ],
      "metadata": {
        "colab": {
          "base_uri": "https://localhost:8080/"
        },
        "id": "dN_vL9e6KgQB",
        "outputId": "acb2b619-2ef1-4c6a-e9fe-6dfadb60b638"
      },
      "execution_count": 32,
      "outputs": [
        {
          "output_type": "stream",
          "name": "stdout",
          "text": [
            "Estymowana wartość opcji dla n=16 wynosi: 6.5178\n",
            "None\n",
            "Czas wykonania: 0.143281 sekund\n"
          ]
        }
      ]
    },
    {
      "cell_type": "code",
      "source": [
        "start_time = time.time()\n",
        "print(est(n4))\n",
        "end_time = time.time()\n",
        "execution_time = end_time - start_time\n",
        "print(f\"Czas wykonania: {execution_time:.6f} sekund\")"
      ],
      "metadata": {
        "colab": {
          "base_uri": "https://localhost:8080/"
        },
        "id": "YahuEtQ4KhDI",
        "outputId": "15e7d1db-ea4b-4ebd-f8ba-21c5a51067f7"
      },
      "execution_count": 33,
      "outputs": [
        {
          "output_type": "stream",
          "name": "stdout",
          "text": [
            "Estymowana wartość opcji dla n=64 wynosi: 6.7704\n",
            "None\n",
            "Czas wykonania: 0.630489 sekund\n"
          ]
        }
      ]
    },
    {
      "cell_type": "code",
      "source": [
        "start_time = time.time()\n",
        "print(est(n5))\n",
        "end_time = time.time()\n",
        "execution_time = end_time - start_time\n",
        "print(f\"Czas wykonania: {execution_time:.6f} sekund\")"
      ],
      "metadata": {
        "colab": {
          "base_uri": "https://localhost:8080/"
        },
        "id": "megiDwO6KiGR",
        "outputId": "78699cb7-d4fe-4fbf-96a7-597590c99192"
      },
      "execution_count": 34,
      "outputs": [
        {
          "output_type": "stream",
          "name": "stdout",
          "text": [
            "Estymowana wartość opcji dla n=256 wynosi: 6.8680\n",
            "None\n",
            "Czas wykonania: 3.010979 sekund\n"
          ]
        }
      ]
    },
    {
      "cell_type": "code",
      "source": [
        "start_time = time.time()\n",
        "print(est(n6))\n",
        "end_time = time.time()\n",
        "execution_time = end_time - start_time\n",
        "print(f\"Czas wykonania: {execution_time:.6f} sekund\")"
      ],
      "metadata": {
        "colab": {
          "base_uri": "https://localhost:8080/"
        },
        "id": "2LsUIU5RNvti",
        "outputId": "a84deee9-26e3-4310-d2c1-4af720e3984d"
      },
      "execution_count": 35,
      "outputs": [
        {
          "output_type": "stream",
          "name": "stdout",
          "text": [
            "Estymowana wartość opcji dla n=1024 wynosi: 6.8689\n",
            "None\n",
            "Czas wykonania: 14.996636 sekund\n"
          ]
        }
      ]
    },
    {
      "cell_type": "code",
      "source": [
        "plt.scatter([n1, n2, n3, n4, n5, n6], ests)\n",
        "plt.ylabel(\"Estimated value\")\n",
        "plt.xlabel(\"Dimension (n)\")\n",
        "plt.title(\"Crude Monte Carlo Estimator results for n>1\")"
      ],
      "metadata": {
        "colab": {
          "base_uri": "https://localhost:8080/",
          "height": 489
        },
        "id": "Vxlq7wuTLzr-",
        "outputId": "cc07ce6a-8ea9-44b6-faf7-51d1036e5c76"
      },
      "execution_count": 36,
      "outputs": [
        {
          "output_type": "execute_result",
          "data": {
            "text/plain": [
              "Text(0.5, 1.0, 'Crude Monte Carlo Estimator results for n>1')"
            ]
          },
          "metadata": {},
          "execution_count": 36
        },
        {
          "output_type": "display_data",
          "data": {
            "text/plain": [
              "<Figure size 640x480 with 1 Axes>"
            ],
            "image/png": "[encoded data removed]"
          },
          "metadata": {}
        }
      ]
    },
    {
      "cell_type": "markdown",
      "source": [
        "## 3.Stratified Estimator\n"
      ],
      "metadata": {
        "id": "ZYtwXlOYPpSq"
      }
    },
    {
      "cell_type": "code",
      "source": [
        "from scipy.stats import chi2\n",
        "m = 10\n",
        "vars = []\n",
        "\n",
        "def stratified(S_0, n, rep, m=10):\n",
        "  means = []\n",
        "  sigma_m = np.zeros((n, n))\n",
        "  for i in range(n):\n",
        "    for j in range(n):\n",
        "      sigma_m[i, j] = min(i+1, j+1) / n\n",
        "  A = np.linalg.cholesky(sigma_m)\n",
        "  for i in range(m):\n",
        "    k = int(rep[i])  # liczebność k-tej warstwy\n",
        "    ys = []\n",
        "    for _ in range(k):\n",
        "        z = np.random.normal(0, 1, n)\n",
        "        X = z/np.linalg.norm(z)\n",
        "        U = np.random.uniform(0, 1)\n",
        "        D_sq = chi2.ppf(i / m + U / m, df=n)\n",
        "        D = np.sqrt(D_sq)\n",
        "        Z = D * X\n",
        "        B = A @ Z\n",
        "        S_T = S_0 * np.exp(r - (sigma**2)/2 + sigma * B[0])\n",
        "        y = np.maximum(S_T - K, 0)\n",
        "        ys.append(y)\n",
        "    str_mean = np.mean(ys)\n",
        "    means.append(str_mean)\n",
        "    str_var = np.var(ys)\n",
        "    vars.append(str_var)\n",
        "    est_I = sum(means) * (1/m)\n",
        "  return est_I"
      ],
      "metadata": {
        "id": "3RURQbmpPumO"
      },
      "execution_count": 88,
      "outputs": []
    },
    {
      "cell_type": "markdown",
      "source": [
        "### Przypadek $n=1$ - warstwy proporcjonalne"
      ],
      "metadata": {
        "id": "OKWJ5N0ZvVEx"
      }
    },
    {
      "cell_type": "code",
      "source": [
        "Rj = [math.ceil(R/m) for i in range(m)]  # liczebność warstw\n",
        "\n",
        "start_time = time.time()\n",
        "print(stratified(S_0, 1, Rj))\n",
        "end_time = time.time()\n",
        "execution_time = end_time - start_time\n",
        "print(f\"Czas wykonania: {execution_time:.6f} sekund\")"
      ],
      "metadata": {
        "id": "yG0kf5y_vX0a",
        "outputId": "c19540c5-fc7b-496e-8530-1c83f483c0b8",
        "colab": {
          "base_uri": "https://localhost:8080/"
        }
      },
      "execution_count": 103,
      "outputs": [
        {
          "output_type": "stream",
          "name": "stdout",
          "text": [
            "12.918725260320082\n",
            "Czas wykonania: 18.788862 sekund\n"
          ]
        }
      ]
    },
    {
      "cell_type": "code",
      "source": [
        "# Przedział ufności"
      ],
      "metadata": {
        "id": "qa594rLmAJfY"
      },
      "execution_count": null,
      "outputs": []
    },
    {
      "cell_type": "markdown",
      "source": [
        "### Przypadek $n=1$ - warstwy optymalne"
      ],
      "metadata": {
        "id": "bflW97E9-uEd"
      }
    },
    {
      "cell_type": "code",
      "source": [
        "Rj = []  # liczebność warstw\n",
        "for j in range(m):\n",
        "    Rj.append((R * 1/m * np.sqrt(vars[j]))/sum((np.sqrt(vars)/m)))\n",
        "\n",
        "start_time = time.time()\n",
        "print(stratified(S_0, 1, Rj))\n",
        "end_time = time.time()\n",
        "execution_time = end_time - start_time\n",
        "print(f\"Czas wykonania: {execution_time:.6f} sekund\")"
      ],
      "metadata": {
        "id": "tcGbeWt0-3M7",
        "outputId": "344ef54d-c4a3-499e-93b9-5b7b5c171332",
        "colab": {
          "base_uri": "https://localhost:8080/"
        }
      },
      "execution_count": 106,
      "outputs": [
        {
          "output_type": "stream",
          "name": "stdout",
          "text": [
            "12.877350951575592\n",
            "Czas wykonania: 2.421046 sekund\n"
          ]
        }
      ]
    },
    {
      "cell_type": "code",
      "source": [
        "# Przedział ufności"
      ],
      "metadata": {
        "id": "cmCkXzMOI342"
      },
      "execution_count": null,
      "outputs": []
    },
    {
      "cell_type": "markdown",
      "source": [
        "### Przypadek $n>1$ - warstwy proporcjonalne"
      ],
      "metadata": {
        "id": "JSenp5mBvTZf"
      }
    },
    {
      "cell_type": "code",
      "source": [
        "Rj = [math.ceil(R/m) for i in range(m)]  # liczebność warstw\n",
        "\n",
        "n1 = 2\n",
        "n2 = 2**2\n",
        "n3 = 2**4\n",
        "n4 = 2**6\n",
        "n5 = 2**8\n",
        "n6 = 2**10\n",
        "\n",
        "estss = []"
      ],
      "metadata": {
        "id": "6QDRAFPgvFkH"
      },
      "execution_count": 116,
      "outputs": []
    },
    {
      "cell_type": "code",
      "source": [
        "start_time = time.time()\n",
        "s = stratified(S_0, n1, Rj)\n",
        "print(s)\n",
        "estss.append(s)\n",
        "end_time = time.time()\n",
        "execution_time = end_time - start_time\n",
        "print(f\"Czas wykonania: {execution_time:.6f} sekund\")"
      ],
      "metadata": {
        "id": "rU1gYkTXwPgP",
        "outputId": "bc31b782-0984-4c9c-b2b2-6f5e711441aa",
        "colab": {
          "base_uri": "https://localhost:8080/"
        }
      },
      "execution_count": 117,
      "outputs": [
        {
          "output_type": "stream",
          "name": "stdout",
          "text": [
            "9.074200108868643\n",
            "Czas wykonania: 17.511141 sekund\n"
          ]
        }
      ]
    },
    {
      "cell_type": "code",
      "source": [
        "start_time = time.time()\n",
        "s = stratified(S_0, n2, Rj)\n",
        "print(s)\n",
        "estss.append(s)\n",
        "end_time = time.time()\n",
        "execution_time = end_time - start_time\n",
        "print(f\"Czas wykonania: {execution_time:.6f} sekund\")"
      ],
      "metadata": {
        "id": "2Pyt_l8UwlBT",
        "outputId": "131c9d76-b9df-48a8-fafd-d5e123b537b1",
        "colab": {
          "base_uri": "https://localhost:8080/"
        }
      },
      "execution_count": 118,
      "outputs": [
        {
          "output_type": "stream",
          "name": "stdout",
          "text": [
            "6.514205290479808\n",
            "Czas wykonania: 17.406375 sekund\n"
          ]
        }
      ]
    },
    {
      "cell_type": "code",
      "source": [
        "start_time = time.time()\n",
        "s = stratified(S_0, n3, Rj)\n",
        "print(s)\n",
        "estss.append(s)\n",
        "end_time = time.time()\n",
        "execution_time = end_time - start_time\n",
        "print(f\"Czas wykonania: {execution_time:.6f} sekund\")"
      ],
      "metadata": {
        "id": "0vjk7-vawl-0",
        "outputId": "e30ceb1b-90a4-4c55-e28f-671bf6aa7c18",
        "colab": {
          "base_uri": "https://localhost:8080/"
        }
      },
      "execution_count": 119,
      "outputs": [
        {
          "output_type": "stream",
          "name": "stdout",
          "text": [
            "3.7003666254928334\n",
            "Czas wykonania: 20.060659 sekund\n"
          ]
        }
      ]
    },
    {
      "cell_type": "code",
      "source": [
        "start_time = time.time()\n",
        "s = stratified(S_0, n4, Rj)\n",
        "print(s)\n",
        "estss.append(s)\n",
        "end_time = time.time()\n",
        "execution_time = end_time - start_time\n",
        "print(f\"Czas wykonania: {execution_time:.6f} sekund\")"
      ],
      "metadata": {
        "id": "WKCLWzpbwm3Q",
        "outputId": "a38756f9-30a5-441a-c248-e0af5d38b890",
        "colab": {
          "base_uri": "https://localhost:8080/"
        }
      },
      "execution_count": 120,
      "outputs": [
        {
          "output_type": "stream",
          "name": "stdout",
          "text": [
            "2.4742593351197932\n",
            "Czas wykonania: 21.762766 sekund\n"
          ]
        }
      ]
    },
    {
      "cell_type": "code",
      "source": [
        "start_time = time.time()\n",
        "s = stratified(S_0, n5, Rj)\n",
        "print(s)\n",
        "estss.append(s)\n",
        "end_time = time.time()\n",
        "execution_time = end_time - start_time\n",
        "print(f\"Czas wykonania: {execution_time:.6f} sekund\")"
      ],
      "metadata": {
        "id": "ksQoahdNwnbs",
        "outputId": "fd7afb61-467e-436a-b104-79fe966a5fb4",
        "colab": {
          "base_uri": "https://localhost:8080/"
        }
      },
      "execution_count": 121,
      "outputs": [
        {
          "output_type": "stream",
          "name": "stdout",
          "text": [
            "1.9892612539849805\n",
            "Czas wykonania: 42.843720 sekund\n"
          ]
        }
      ]
    },
    {
      "cell_type": "code",
      "source": [
        "start_time = time.time()\n",
        "s = stratified(S_0, n6, Rj)\n",
        "print(s)\n",
        "estss.append(s)\n",
        "end_time = time.time()\n",
        "execution_time = end_time - start_time\n",
        "print(f\"Czas wykonania: {execution_time:.6f} sekund\")"
      ],
      "metadata": {
        "id": "n0zG_SxBwoEr",
        "outputId": "7a8d603c-ba35-43d0-ecf6-0f739d4d03e1",
        "colab": {
          "base_uri": "https://localhost:8080/"
        }
      },
      "execution_count": 122,
      "outputs": [
        {
          "output_type": "stream",
          "name": "stdout",
          "text": [
            "1.8998791507856354\n",
            "Czas wykonania: 94.927174 sekund\n"
          ]
        }
      ]
    },
    {
      "cell_type": "code",
      "source": [
        "plt.scatter([n1, n2, n3, n4, n5, n6], estss)\n",
        "plt.ylabel(\"Estimated value\")\n",
        "plt.xlabel(\"Dimension (n)\")\n",
        "plt.title(\"Stratified Estimator results for n>1 (proportional)\")"
      ],
      "metadata": {
        "id": "9BXmAVDO5b0w",
        "outputId": "163b23c5-200f-432d-d391-07e1c3cff2ae",
        "colab": {
          "base_uri": "https://localhost:8080/",
          "height": 489
        }
      },
      "execution_count": 123,
      "outputs": [
        {
          "output_type": "execute_result",
          "data": {
            "text/plain": [
              "Text(0.5, 1.0, 'Stratified Estimator results for n>1 (proportional)')"
            ]
          },
          "metadata": {},
          "execution_count": 123
        },
        {
          "output_type": "display_data",
          "data": {
            "text/plain": [
              "<Figure size 640x480 with 1 Axes>"
            ],
            "image/png": "[encoded data removed]"
          },
          "metadata": {}
        }
      ]
    },
    {
      "cell_type": "markdown",
      "source": [
        "### Przypadek $n>1$ - warstwy optymalne"
      ],
      "metadata": {
        "id": "OSt8Q4GRAkE6"
      }
    },
    {
      "cell_type": "code",
      "source": [
        "Rj = []\n",
        "for j in range(m):\n",
        "    Rj.append((R * 1/m * np.sqrt(vars[j]))/sum((np.sqrt(vars)/m)))\n",
        "\n",
        "n1 = 2\n",
        "n2 = 2**2\n",
        "n3 = 2**4\n",
        "n4 = 2**6\n",
        "n5 = 2**8\n",
        "n6 = 2**10\n",
        "\n",
        "estss = []"
      ],
      "metadata": {
        "id": "LpB4BZW8GsGG"
      },
      "execution_count": 124,
      "outputs": []
    },
    {
      "cell_type": "code",
      "source": [
        "start_time = time.time()\n",
        "s = stratified(S_0, n1, Rj)\n",
        "print(s)\n",
        "estss.append(s)\n",
        "end_time = time.time()\n",
        "execution_time = end_time - start_time\n",
        "print(f\"Czas wykonania: {execution_time:.6f} sekund\")"
      ],
      "metadata": {
        "id": "KunfODPdG4R5",
        "outputId": "ca19ebad-f215-47c7-f7ad-c23c71faf79e",
        "colab": {
          "base_uri": "https://localhost:8080/"
        }
      },
      "execution_count": 125,
      "outputs": [
        {
          "output_type": "stream",
          "name": "stdout",
          "text": [
            "9.418262079618847\n",
            "Czas wykonania: 0.951254 sekund\n"
          ]
        }
      ]
    },
    {
      "cell_type": "code",
      "source": [
        "start_time = time.time()\n",
        "s = stratified(S_0, n2, Rj)\n",
        "print(s)\n",
        "estss.append(s)\n",
        "end_time = time.time()\n",
        "execution_time = end_time - start_time\n",
        "print(f\"Czas wykonania: {execution_time:.6f} sekund\")"
      ],
      "metadata": {
        "id": "sB8uJLpIG7vE",
        "outputId": "1d51d1a2-1d33-4ef7-a6da-cbba3fe8a794",
        "colab": {
          "base_uri": "https://localhost:8080/"
        }
      },
      "execution_count": 126,
      "outputs": [
        {
          "output_type": "stream",
          "name": "stdout",
          "text": [
            "6.353234013969776\n",
            "Czas wykonania: 0.985386 sekund\n"
          ]
        }
      ]
    },
    {
      "cell_type": "code",
      "source": [
        "start_time = time.time()\n",
        "s = stratified(S_0, n3, Rj)\n",
        "print(s)\n",
        "estss.append(s)\n",
        "end_time = time.time()\n",
        "execution_time = end_time - start_time\n",
        "print(f\"Czas wykonania: {execution_time:.6f} sekund\")"
      ],
      "metadata": {
        "id": "2hRDCJ8-G8ry",
        "outputId": "e302c291-8edf-4b7d-85a0-b7dfa0705bad",
        "colab": {
          "base_uri": "https://localhost:8080/"
        }
      },
      "execution_count": 127,
      "outputs": [
        {
          "output_type": "stream",
          "name": "stdout",
          "text": [
            "3.5912255582936456\n",
            "Czas wykonania: 1.564094 sekund\n"
          ]
        }
      ]
    },
    {
      "cell_type": "code",
      "source": [
        "start_time = time.time()\n",
        "s = stratified(S_0, n4, Rj)\n",
        "print(s)\n",
        "estss.append(s)\n",
        "end_time = time.time()\n",
        "execution_time = end_time - start_time\n",
        "print(f\"Czas wykonania: {execution_time:.6f} sekund\")"
      ],
      "metadata": {
        "id": "q9-xNz6lG9sE",
        "outputId": "925981ad-9d64-432b-9ab3-79d786237ec4",
        "colab": {
          "base_uri": "https://localhost:8080/"
        }
      },
      "execution_count": 128,
      "outputs": [
        {
          "output_type": "stream",
          "name": "stdout",
          "text": [
            "2.507614899302178\n",
            "Czas wykonania: 1.160077 sekund\n"
          ]
        }
      ]
    },
    {
      "cell_type": "code",
      "source": [
        "start_time = time.time()\n",
        "s = stratified(S_0, n5, Rj)\n",
        "print(s)\n",
        "estss.append(s)\n",
        "end_time = time.time()\n",
        "execution_time = end_time - start_time\n",
        "print(f\"Czas wykonania: {execution_time:.6f} sekund\")"
      ],
      "metadata": {
        "id": "wcHKaLI4G-Qu",
        "outputId": "3032331f-f0af-478c-ab86-f1480f689764",
        "colab": {
          "base_uri": "https://localhost:8080/"
        }
      },
      "execution_count": 129,
      "outputs": [
        {
          "output_type": "stream",
          "name": "stdout",
          "text": [
            "1.9901471758237204\n",
            "Czas wykonania: 2.185025 sekund\n"
          ]
        }
      ]
    },
    {
      "cell_type": "code",
      "source": [
        "start_time = time.time()\n",
        "s = stratified(S_0, n6, Rj)\n",
        "print(s)\n",
        "estss.append(s)\n",
        "end_time = time.time()\n",
        "execution_time = end_time - start_time\n",
        "print(f\"Czas wykonania: {execution_time:.6f} sekund\")"
      ],
      "metadata": {
        "id": "zqWoL-mVG_DY",
        "outputId": "89a643db-5a2b-4aae-bcc7-73b302f826dd",
        "colab": {
          "base_uri": "https://localhost:8080/"
        }
      },
      "execution_count": 130,
      "outputs": [
        {
          "output_type": "stream",
          "name": "stdout",
          "text": [
            "1.8978975056368683\n",
            "Czas wykonania: 7.525546 sekund\n"
          ]
        }
      ]
    },
    {
      "cell_type": "code",
      "source": [
        "plt.scatter([n1, n2, n3, n4, n5, n6], estss)\n",
        "plt.ylabel(\"Estimated value\")\n",
        "plt.xlabel(\"Dimension (n)\")\n",
        "plt.title(\"Stratified Estimator results for n>1 (optimal)\")"
      ],
      "metadata": {
        "id": "w4w5kHtlHkk6",
        "outputId": "45346e98-0de0-47f7-a6bc-6119f78da600",
        "colab": {
          "base_uri": "https://localhost:8080/",
          "height": 489
        }
      },
      "execution_count": 131,
      "outputs": [
        {
          "output_type": "execute_result",
          "data": {
            "text/plain": [
              "Text(0.5, 1.0, 'Stratified Estimator results for n>1 (optimal)')"
            ]
          },
          "metadata": {},
          "execution_count": 131
        },
        {
          "output_type": "display_data",
          "data": {
            "text/plain": [
              "<Figure size 640x480 with 1 Axes>"
            ],
            "image/png": "[encoded data removed]"
          },
          "metadata": {}
        }
      ]
    },
    {
      "cell_type": "markdown",
      "source": [
        "## 4. Antithetic Estimator\n",
        "\n",
        "### Przypadek $n=1$"
      ],
      "metadata": {
        "id": "1_rVbtrO3K4K"
      }
    },
    {
      "cell_type": "code",
      "source": [
        "z = np.random.normal(0, 1, int(R))\n",
        "z_anty = -z  # zmienne antytetyczne\n",
        "S_T = S_0 * np.exp(r - sigma**2/2 + sigma * z)  # geometryczny ruch Browna\n",
        "S_T_anty = S_0 * np.exp(r - sigma**2/2 + sigma * z_anty)\n",
        "y = np.maximum(S_T - K, 0)\n",
        "y_anty = np.maximum(S_T - K, 0)\n",
        "est_I = np.exp(-r) * (np.mean(y) + np.mean(y_anty)) / 2  # średnia\n",
        "\n",
        "print(f\"Estymowana wartość opcji to: {est_I:.4f}\")"
      ],
      "metadata": {
        "colab": {
          "base_uri": "https://localhost:8080/"
        },
        "id": "CdjPKRhb5SGt",
        "outputId": "aaa9f1cf-484d-4e00-e843-9a3ced1581ec"
      },
      "execution_count": 14,
      "outputs": [
        {
          "output_type": "stream",
          "name": "stdout",
          "text": [
            "Estymowana wartość opcji to: 12.3296\n"
          ]
        }
      ]
    },
    {
      "cell_type": "code",
      "source": [
        "# Przedział ufności\n",
        "\n",
        "alpha = 0.05\n",
        "vec = [i for i in y]\n",
        "vec.extend(i for i in y_anty)\n",
        "var_anty_cmc = np.var(vec)/R\n",
        "var_anty = var_anty_cmc*(1 + np.corrcoef(S_T, S_T_anty)[0,1])\n",
        "left = est_I - (sc.stats.norm.ppf(1-alpha/2) * np.sqrt(var_anty))\n",
        "right = est_I + (sc.stats.norm.ppf(1-alpha/2) * np.sqrt(var_anty))\n",
        "conf_interval = [left, right]\n",
        "print(conf_interval)\n",
        "print(f\"Szerokość przedziału ufności: {right-left:.4f}\")"
      ],
      "metadata": {
        "id": "we50SZ-mWAvK",
        "outputId": "7b41c6ef-99e6-4659-a833-0cdfa7b4c9ab",
        "colab": {
          "base_uri": "https://localhost:8080/"
        }
      },
      "execution_count": 15,
      "outputs": [
        {
          "output_type": "stream",
          "name": "stdout",
          "text": [
            "[12.300162975703406, 12.359109194195371]\n",
            "Szerokość przedziału ufności: 0.0589\n"
          ]
        }
      ]
    },
    {
      "cell_type": "code",
      "source": [
        "# Błąd bezwzględny\n",
        "\n",
        "error = np.abs(est_I - real)\n",
        "print(f\"Błąd bezwzględny: {error:.4f}\")"
      ],
      "metadata": {
        "id": "kOtkfELkWiVk",
        "outputId": "9ddcf523-7826-41cb-fa41-16d77ef8f86f",
        "colab": {
          "base_uri": "https://localhost:8080/"
        }
      },
      "execution_count": 16,
      "outputs": [
        {
          "output_type": "stream",
          "name": "stdout",
          "text": [
            "Błąd bezwzględny: 0.0064\n"
          ]
        }
      ]
    },
    {
      "cell_type": "markdown",
      "source": [
        "### 5. Control Variate Estimator\n",
        "\n",
        "### Przypadek $n=1$"
      ],
      "metadata": {
        "id": "UYKREHRLCM10"
      }
    },
    {
      "cell_type": "code",
      "source": [
        "z = np.random.normal(0, 1, int(R))\n",
        "S_T = S_0 * np.exp(r - sigma**2/2 + sigma * z)  # geometryczny ruch Browna\n",
        "y = np.maximum(S_T - K, 0)\n",
        "X = z  # zmienna kontrolna B(1), bo z ~ N(0, 1)\n",
        "exp_X = 0  # znana wartość oczekiwana zmiennej B(1)\n",
        "est_I_cmc = np.exp(-r) * np.mean(y)  # Y_R^{CMC} \"z daszkiem\", wykorzystywany we wzorze\n",
        "X_R = np.mean(X)  # średnia, czyli X_R \"z daszkiem\"\n",
        "\n",
        "c1 = np.cov(y, X)[0, 1]\n",
        "c2 = np.var(X)\n",
        "c = c1 / c2  # współczynnik c\n",
        "\n",
        "est_I = est_I_cmc + c * (X_R - exp_X)\n",
        "\n",
        "print(f\"Estymowana wartość opcji: {est_I:.4f}\")"
      ],
      "metadata": {
        "id": "HYt0MvqrCY2e",
        "colab": {
          "base_uri": "https://localhost:8080/"
        },
        "outputId": "1dd8cb75-00cd-470e-ebbf-f1d843d529c0"
      },
      "execution_count": 18,
      "outputs": [
        {
          "output_type": "stream",
          "name": "stdout",
          "text": [
            "Estymowana wartość opcji: 12.3438\n"
          ]
        }
      ]
    },
    {
      "cell_type": "code",
      "source": [
        "# Przedział ufności\n",
        "\n",
        "alpha = 0.05\n",
        "var_cv_cmc = np.var(y)/R\n",
        "cor = np.corrcoef(S_T, X)[0,1]\n",
        "var_cv = var_cv_cmc*(1 - cor**2)\n",
        "left = est_I - (sc.stats.norm.ppf(1-alpha/2) * np.sqrt(var_cv))\n",
        "right = est_I + (sc.stats.norm.ppf(1-alpha/2) * np.sqrt(var_cv))\n",
        "conf_interval = [left, right]\n",
        "print(conf_interval)\n",
        "print(f\"Szerokość przedziału ufności: {right-left:.4f}\")"
      ],
      "metadata": {
        "id": "wJ5mu2p03qpq",
        "outputId": "3614d117-dc5b-4f83-af22-90b1917aecae",
        "colab": {
          "base_uri": "https://localhost:8080/"
        }
      },
      "execution_count": 19,
      "outputs": [
        {
          "output_type": "stream",
          "name": "stdout",
          "text": [
            "[12.322597444793118, 12.365009369410423]\n",
            "Szerokość przedziału ufności: 0.0424\n"
          ]
        }
      ]
    },
    {
      "cell_type": "code",
      "source": [
        "# Błąd bezwzględny\n",
        "\n",
        "error = np.abs(est_I - real)\n",
        "print(f\"Błąd bezwzględny: {error:.4f}\")"
      ],
      "metadata": {
        "id": "-lC3wAECW_P0",
        "outputId": "5aff6fb4-4794-455c-e592-a01d64172123",
        "colab": {
          "base_uri": "https://localhost:8080/"
        }
      },
      "execution_count": 20,
      "outputs": [
        {
          "output_type": "stream",
          "name": "stdout",
          "text": [
            "Błąd bezwzględny: 0.0078\n"
          ]
        }
      ]
    }
  ]
}