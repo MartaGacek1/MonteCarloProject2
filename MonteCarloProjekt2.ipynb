{
  "nbformat": 4,
  "nbformat_minor": 0,
  "metadata": {
    "colab": {
      "provenance": [],
      "authorship_tag": "ABX9TyO6RF2HlSvG9Iu7lytLLIGO",
      "include_colab_link": true
    },
    "kernelspec": {
      "name": "python3",
      "display_name": "Python 3"
    },
    "language_info": {
      "name": "python"
    }
  },
  "cells": [
    {
      "cell_type": "markdown",
      "metadata": {
        "id": "view-in-github",
        "colab_type": "text"
      },
      "source": [
        "<a href=\"https://colab.research.google.com/github/MartaGacek1/MonteCarloProject2/blob/main/MonteCarloProjekt2.ipynb\" target=\"_parent\"><img src=\"https://colab.research.google.com/assets/colab-badge.svg\" alt=\"Open In Colab\"/></a>"
      ]
    },
    {
      "cell_type": "markdown",
      "source": [
        "# Projekt II - Wprowadzenie do symulacji i metod Monte Carlo\n",
        "\n",
        "## Marta Gacek"
      ],
      "metadata": {
        "id": "89PQrxQASVoX"
      }
    },
    {
      "cell_type": "code",
      "source": [
        "import numpy as np\n",
        "import matplotlib.pyplot as plt\n",
        "import scipy as sc\n",
        "import time\n",
        "import math\n",
        "\n",
        "np.random.seed(123)\n",
        "\n",
        "S_0 = 100\n",
        "K = 100\n",
        "r = 0.05\n",
        "sigma = 0.25\n",
        "R = 100000"
      ],
      "metadata": {
        "id": "rnwdFoheSY87"
      },
      "execution_count": 1,
      "outputs": []
    },
    {
      "cell_type": "markdown",
      "source": [
        "## 1. Prawdziwa wartość opcji\n",
        "\n",
        "Ta wartość zostanie wykorzystana do porównywania wyników w przypadkach gdy $n=1$ dla różnych estymatorów."
      ],
      "metadata": {
        "id": "PjJBfANJ-8q7"
      }
    },
    {
      "cell_type": "code",
      "source": [
        "d1 = (np.log(S_0/K) + r + sigma**2/2)/sigma\n",
        "d2 = d1 - sigma\n",
        "real = S_0 * sc.stats.norm.cdf(d1) - K * np.exp(-r) * sc.stats.norm.cdf(d2)\n",
        "print(real)"
      ],
      "metadata": {
        "colab": {
          "base_uri": "https://localhost:8080/"
        },
        "id": "NRL3M5_K_A30",
        "outputId": "faef70fc-c508-4236-8987-f38e1a9b49cc"
      },
      "execution_count": 6,
      "outputs": [
        {
          "output_type": "stream",
          "name": "stdout",
          "text": [
            "12.335998930368717\n"
          ]
        }
      ]
    },
    {
      "cell_type": "markdown",
      "source": [
        "## 2. Crude Monte Carlo Estimator"
      ],
      "metadata": {
        "id": "ogdI1bzQS177"
      }
    },
    {
      "cell_type": "markdown",
      "source": [
        "### Przypadek $n=1$"
      ],
      "metadata": {
        "id": "x-FbryzAzbYY"
      }
    },
    {
      "cell_type": "code",
      "source": [
        "import numpy as np\n",
        "\n",
        "start_time = time.time()\n",
        "\n",
        "z = np.random.normal(0, 1, R)  # zmienne z rozkładu standardowego normalnego\n",
        "S_T = S_0 * np.exp(r - (sigma**2)/2 + sigma * z)  # geometryczny ruch Browna\n",
        "y = np.maximum(S_T - K, 0)\n",
        "est_I = np.exp(-r) * np.mean(y)\n",
        "\n",
        "print(f\"Estymowana wartość opcji dla n=1 to: {est_I:.4f}\")\n",
        "\n",
        "end_time = time.time()\n",
        "execution_time = end_time - start_time\n",
        "print(f\"Czas wykonania: {execution_time:.6f} sekund\")"
      ],
      "metadata": {
        "colab": {
          "base_uri": "https://localhost:8080/"
        },
        "id": "dZnZNnVmS-6E",
        "outputId": "cc336019-976d-4161-b431-b40dc468a689"
      },
      "execution_count": null,
      "outputs": [
        {
          "output_type": "stream",
          "name": "stdout",
          "text": [
            "Estymowana wartość opcji dla n=1 to: 12.3620\n",
            "Czas wykonania: 0.014682 sekund\n"
          ]
        }
      ]
    },
    {
      "cell_type": "code",
      "source": [
        "# Przedział ufności\n",
        "\n",
        "alpha = 0.05\n",
        "sig = np.var(y)\n",
        "left = est_I - (sc.stats.norm.ppf(1-alpha/2) * np.sqrt(sig)/np.sqrt(R))\n",
        "right = est_I + (sc.stats.norm.ppf(1-alpha/2) * np.sqrt(sig)/np.sqrt(R))\n",
        "conf_interval = [left, right]\n",
        "print(conf_interval)\n",
        "print(f\"Szerokość przedziału ufności: {right-left:.4f}\")"
      ],
      "metadata": {
        "colab": {
          "base_uri": "https://localhost:8080/"
        },
        "id": "l_MGOI4m27u3",
        "outputId": "98e24112-980c-4238-f239-6b997c4531ca"
      },
      "execution_count": null,
      "outputs": [
        {
          "output_type": "stream",
          "name": "stdout",
          "text": [
            "[12.241388377432854, 12.482647664847947]\n",
            "Szerokość przedziału ufności: 0.2413\n"
          ]
        }
      ]
    },
    {
      "cell_type": "code",
      "source": [
        "# Błąd bezwzględny\n",
        "\n",
        "error = np.abs(est_I - real)\n",
        "print(f\"Błąd bezwzględny: {error:.4f}\")"
      ],
      "metadata": {
        "id": "mptzpMuqWJ6Y",
        "outputId": "00d7f31a-7879-49f8-87ac-0c3ff23c41e2",
        "colab": {
          "base_uri": "https://localhost:8080/"
        }
      },
      "execution_count": null,
      "outputs": [
        {
          "output_type": "stream",
          "name": "stdout",
          "text": [
            "Błąd bezwzględny: 0.0260\n"
          ]
        }
      ]
    },
    {
      "cell_type": "markdown",
      "source": [
        "### Przypadek $n > 1$"
      ],
      "metadata": {
        "id": "Am0oDSZX1Buj"
      }
    },
    {
      "cell_type": "code",
      "source": [
        "n1 = 2\n",
        "n2 = 2**2\n",
        "n3 = 2**4\n",
        "n4 = 2**6\n",
        "n5 = 2**8\n",
        "n6 = 2**10\n",
        "\n",
        "ests = []\n",
        "\n",
        "def est(n, S_0 = 100, K = 100, r = 0.05, sigma = 0.25, R = 100000):\n",
        "  step = 1/n\n",
        "  z = np.random.normal(0, 1, (R, n))\n",
        "  prices = np.zeros((R, n))\n",
        "  prices[:, 0] = S_0\n",
        "  for t in range(1, n):\n",
        "    prices[:, t] = prices[:, t-1] * np.exp((r - sigma**2/2) * step + sigma * np.sqrt(step) * z[:, t-1])  # geometryczny ruch Browna\n",
        "  A_n = np.mean(prices, axis=1)\n",
        "  y = np.maximum(A_n - K, 0)\n",
        "  est_I = np.exp(-r) * np.mean(y)\n",
        "  ests.append(est_I)\n",
        "  print(f\"Estymowana wartość opcji dla n={n} wynosi: {est_I:.4f}\")"
      ],
      "metadata": {
        "id": "Q-k93rEC8fCb"
      },
      "execution_count": null,
      "outputs": []
    },
    {
      "cell_type": "code",
      "source": [
        "start_time = time.time()\n",
        "print(est(n1))\n",
        "end_time = time.time()\n",
        "execution_time = end_time - start_time\n",
        "print(f\"Czas wykonania: {execution_time:.6f} sekund\")"
      ],
      "metadata": {
        "colab": {
          "base_uri": "https://localhost:8080/"
        },
        "id": "mWjBJr3CIlc8",
        "outputId": "799c26e1-b2e1-4e3e-a1cb-0fbaa353efcc"
      },
      "execution_count": null,
      "outputs": [
        {
          "output_type": "stream",
          "name": "stdout",
          "text": [
            "Estymowana wartość opcji dla n=2 wynosi: 4.0082\n",
            "None\n",
            "Czas wykonania: 0.026139 sekund\n"
          ]
        }
      ]
    },
    {
      "cell_type": "code",
      "source": [
        "start_time = time.time()\n",
        "print(est(n2))\n",
        "end_time = time.time()\n",
        "execution_time = end_time - start_time\n",
        "print(f\"Czas wykonania: {execution_time:.6f} sekund\")"
      ],
      "metadata": {
        "colab": {
          "base_uri": "https://localhost:8080/"
        },
        "id": "k5PeLaxUKfVc",
        "outputId": "948a9f79-7f39-490e-ea85-2a61459a5631"
      },
      "execution_count": null,
      "outputs": [
        {
          "output_type": "stream",
          "name": "stdout",
          "text": [
            "Estymowana wartość opcji dla n=4 wynosi: 5.4600\n",
            "None\n",
            "Czas wykonania: 0.027267 sekund\n"
          ]
        }
      ]
    },
    {
      "cell_type": "code",
      "source": [
        "start_time = time.time()\n",
        "print(est(n3))\n",
        "end_time = time.time()\n",
        "execution_time = end_time - start_time\n",
        "print(f\"Czas wykonania: {execution_time:.6f} sekund\")"
      ],
      "metadata": {
        "colab": {
          "base_uri": "https://localhost:8080/"
        },
        "id": "dN_vL9e6KgQB",
        "outputId": "acb2b619-2ef1-4c6a-e9fe-6dfadb60b638"
      },
      "execution_count": null,
      "outputs": [
        {
          "output_type": "stream",
          "name": "stdout",
          "text": [
            "Estymowana wartość opcji dla n=16 wynosi: 6.5178\n",
            "None\n",
            "Czas wykonania: 0.143281 sekund\n"
          ]
        }
      ]
    },
    {
      "cell_type": "code",
      "source": [
        "start_time = time.time()\n",
        "print(est(n4))\n",
        "end_time = time.time()\n",
        "execution_time = end_time - start_time\n",
        "print(f\"Czas wykonania: {execution_time:.6f} sekund\")"
      ],
      "metadata": {
        "colab": {
          "base_uri": "https://localhost:8080/"
        },
        "id": "YahuEtQ4KhDI",
        "outputId": "15e7d1db-ea4b-4ebd-f8ba-21c5a51067f7"
      },
      "execution_count": null,
      "outputs": [
        {
          "output_type": "stream",
          "name": "stdout",
          "text": [
            "Estymowana wartość opcji dla n=64 wynosi: 6.7704\n",
            "None\n",
            "Czas wykonania: 0.630489 sekund\n"
          ]
        }
      ]
    },
    {
      "cell_type": "code",
      "source": [
        "start_time = time.time()\n",
        "print(est(n5))\n",
        "end_time = time.time()\n",
        "execution_time = end_time - start_time\n",
        "print(f\"Czas wykonania: {execution_time:.6f} sekund\")"
      ],
      "metadata": {
        "colab": {
          "base_uri": "https://localhost:8080/"
        },
        "id": "megiDwO6KiGR",
        "outputId": "78699cb7-d4fe-4fbf-96a7-597590c99192"
      },
      "execution_count": null,
      "outputs": [
        {
          "output_type": "stream",
          "name": "stdout",
          "text": [
            "Estymowana wartość opcji dla n=256 wynosi: 6.8680\n",
            "None\n",
            "Czas wykonania: 3.010979 sekund\n"
          ]
        }
      ]
    },
    {
      "cell_type": "code",
      "source": [
        "start_time = time.time()\n",
        "print(est(n6))\n",
        "end_time = time.time()\n",
        "execution_time = end_time - start_time\n",
        "print(f\"Czas wykonania: {execution_time:.6f} sekund\")"
      ],
      "metadata": {
        "colab": {
          "base_uri": "https://localhost:8080/"
        },
        "id": "2LsUIU5RNvti",
        "outputId": "a84deee9-26e3-4310-d2c1-4af720e3984d"
      },
      "execution_count": null,
      "outputs": [
        {
          "output_type": "stream",
          "name": "stdout",
          "text": [
            "Estymowana wartość opcji dla n=1024 wynosi: 6.8689\n",
            "None\n",
            "Czas wykonania: 14.996636 sekund\n"
          ]
        }
      ]
    },
    {
      "cell_type": "code",
      "source": [
        "plt.scatter([n1, n2, n3, n4, n5, n6], ests)\n",
        "plt.ylabel(\"Estimated value\")\n",
        "plt.xlabel(\"Dimension (n)\")\n",
        "plt.title(\"Crude Monte Carlo Estimator results for n>1\")"
      ],
      "metadata": {
        "colab": {
          "base_uri": "https://localhost:8080/",
          "height": 489
        },
        "id": "Vxlq7wuTLzr-",
        "outputId": "cc07ce6a-8ea9-44b6-faf7-51d1036e5c76"
      },
      "execution_count": null,
      "outputs": [
        {
          "output_type": "execute_result",
          "data": {
            "text/plain": [
              "Text(0.5, 1.0, 'Crude Monte Carlo Estimator results for n>1')"
            ]
          },
          "metadata": {},
          "execution_count": 36
        },
        {
          "output_type": "display_data",
          "data": {
            "text/plain": [
              "<Figure size 640x480 with 1 Axes>"
            ],
            "image/png": "[encoded data removed]"
          },
          "metadata": {}
        }
      ]
    },
    {
      "cell_type": "markdown",
      "source": [
        "## 3.Stratified Estimator\n",
        "\n",
        "### Przypadek $n=1$ - warstwy proporcjonalne"
      ],
      "metadata": {
        "id": "ZYtwXlOYPpSq"
      }
    },
    {
      "cell_type": "code",
      "source": [
        "from scipy.stats import chi2\n",
        "m = 10\n",
        "vars_prop = []\n",
        "\n",
        "def stratified_prop(S_0, n, m=10):\n",
        "  Rj = [math.ceil(R/m) for i in range(m)]  # liczebność warstw\n",
        "  means = []\n",
        "  sigma_m = np.zeros((n, n))\n",
        "  for i in range(n):\n",
        "    for j in range(n):\n",
        "      sigma_m[i, j] = min(i+1, j+1) / n\n",
        "  A = np.linalg.cholesky(sigma_m)\n",
        "  for i in range(m):\n",
        "    k = int(Rj[i])  # liczebność k-tej warstwy\n",
        "    ys = []\n",
        "    for _ in range(k):\n",
        "        z = np.random.normal(0, 1, n)\n",
        "        X = z/np.linalg.norm(z)\n",
        "        U = np.random.uniform(0, 1)\n",
        "        D_sq = chi2.ppf(i / m + U / m, df=n)\n",
        "        D = np.sqrt(D_sq)\n",
        "        Z = D * X\n",
        "        B = A @ Z\n",
        "        S_T = S_0 * np.exp(r - (sigma**2)/2 + sigma * B[0])\n",
        "        y = np.maximum(S_T - K, 0)\n",
        "        ys.append(y)\n",
        "    str_mean = np.mean(ys)\n",
        "    means.append(str_mean)\n",
        "    str_var = np.var(ys)\n",
        "    vars_prop.append(str_var)\n",
        "    est_I = sum(means) * (1/m)\n",
        "  return est_I"
      ],
      "metadata": {
        "id": "3RURQbmpPumO"
      },
      "execution_count": 86,
      "outputs": []
    },
    {
      "cell_type": "code",
      "source": [
        "start_time = time.time()\n",
        "s = stratified_prop(S_0, 1)\n",
        "print(f\"Estymowana wartość opcji dla n={1} wynosi: {s:.4f}\")\n",
        "end_time = time.time()\n",
        "execution_time = end_time - start_time\n",
        "print(f\"Czas wykonania: {execution_time:.6f} sekund\")"
      ],
      "metadata": {
        "id": "yG0kf5y_vX0a",
        "outputId": "f3a73e0c-31f4-4b86-a115-9382ed0ffae6",
        "colab": {
          "base_uri": "https://localhost:8080/"
        }
      },
      "execution_count": 90,
      "outputs": [
        {
          "output_type": "stream",
          "name": "stdout",
          "text": [
            "Estymowana wartość opcji dla n=1 wynosi: 12.9597\n",
            "Czas wykonania: 19.420632 sekund\n"
          ]
        }
      ]
    },
    {
      "cell_type": "code",
      "source": [
        "# Przedział ufności\n",
        "\n",
        "Rj = [math.ceil(R/m) for i in range(m)]  # liczebność warstw\n",
        "\n",
        "alpha = 0.05\n",
        "var_str = 0\n",
        "for j in range(m):\n",
        "    var_str += (1/m**2)*vars_prop[j]/Rj[j]\n",
        "left = s - (sc.stats.norm.ppf(1-alpha/2) * np.sqrt(var_str))\n",
        "right = s + (sc.stats.norm.ppf(1-alpha/2) * np.sqrt(var_str))\n",
        "conf_interval = [left, right]\n",
        "print(conf_interval)\n",
        "print(f\"Szerokość przedziału ufności: {right-left:.4f}\")"
      ],
      "metadata": {
        "id": "qa594rLmAJfY",
        "outputId": "b095926f-b141-47e5-f7e2-292e26396b55",
        "colab": {
          "base_uri": "https://localhost:8080/"
        }
      },
      "execution_count": 91,
      "outputs": [
        {
          "output_type": "stream",
          "name": "stdout",
          "text": [
            "[12.88657114960324, 13.032884055225965]\n",
            "Szerokość przedziału ufności: 0.1463\n"
          ]
        }
      ]
    },
    {
      "cell_type": "code",
      "source": [
        "# Błąd bezwzględny\n",
        "\n",
        "error = np.abs(s - real)\n",
        "print(f\"Błąd bezwzględny: {error:.4f}\")"
      ],
      "metadata": {
        "id": "DfbvYXBKiI2a",
        "outputId": "d6fa26d8-6100-47b4-bf49-13732a268076",
        "colab": {
          "base_uri": "https://localhost:8080/"
        }
      },
      "execution_count": 92,
      "outputs": [
        {
          "output_type": "stream",
          "name": "stdout",
          "text": [
            "Błąd bezwzględny: 0.6237\n"
          ]
        }
      ]
    },
    {
      "cell_type": "markdown",
      "source": [
        "### Przypadek $n=1$ - warstwy optymalne"
      ],
      "metadata": {
        "id": "bflW97E9-uEd"
      }
    },
    {
      "cell_type": "code",
      "source": [
        "vars_opt = []\n",
        "\n",
        "def stratified_opt(S_0, n, m=10):\n",
        "  Rj = []  # liczebność warstw\n",
        "  for j in range(m):\n",
        "    Rj.append((R * 1/m * np.sqrt(vars_prop[j]))/sum((np.sqrt(vars_prop)/m)))\n",
        "  means = []\n",
        "  sigma_m = np.zeros((n, n))\n",
        "  for i in range(n):\n",
        "    for j in range(n):\n",
        "      sigma_m[i, j] = min(i+1, j+1) / n\n",
        "  A = np.linalg.cholesky(sigma_m)\n",
        "  for i in range(m):\n",
        "    k = int(Rj[i])  # liczebność k-tej warstwy\n",
        "    ys = []\n",
        "    for _ in range(k):\n",
        "        z = np.random.normal(0, 1, n)\n",
        "        X = z/np.linalg.norm(z)\n",
        "        U = np.random.uniform(0, 1)\n",
        "        D_sq = chi2.ppf(i / m + U / m, df=n)\n",
        "        D = np.sqrt(D_sq)\n",
        "        Z = D * X\n",
        "        B = A @ Z\n",
        "        S_T = S_0 * np.exp(r - (sigma**2)/2 + sigma * B[0])\n",
        "        y = np.maximum(S_T - K, 0)\n",
        "        ys.append(y)\n",
        "    str_mean = np.mean(ys)\n",
        "    means.append(str_mean)\n",
        "    str_var = np.var(ys)\n",
        "    vars_opt.append(str_var)\n",
        "    est_I = sum(means) * (1/m)\n",
        "  return est_I"
      ],
      "metadata": {
        "id": "u06a561OpU-O"
      },
      "execution_count": 93,
      "outputs": []
    },
    {
      "cell_type": "code",
      "source": [
        "Rj = []  # liczebność warstw\n",
        "for j in range(m):\n",
        "    Rj.append((R * 1/m * np.sqrt(vars[j]))/sum((np.sqrt(vars)/m)))"
      ],
      "metadata": {
        "id": "fFaGuhQ8qtop"
      },
      "execution_count": 94,
      "outputs": []
    },
    {
      "cell_type": "code",
      "source": [
        "start_time = time.time()\n",
        "s = stratified_opt(S_0, 1)\n",
        "print(f\"Estymowana wartość opcji dla n={1} wynosi: {s:.4f}\")\n",
        "end_time = time.time()\n",
        "execution_time = end_time - start_time\n",
        "print(f\"Czas wykonania: {execution_time:.6f} sekund\")"
      ],
      "metadata": {
        "id": "tcGbeWt0-3M7",
        "outputId": "a548a165-2fc4-47f8-afdb-2bf592ebe4ba",
        "colab": {
          "base_uri": "https://localhost:8080/"
        }
      },
      "execution_count": 95,
      "outputs": [
        {
          "output_type": "stream",
          "name": "stdout",
          "text": [
            "Estymowana wartość opcji dla n=1 wynosi: 12.8432\n",
            "Czas wykonania: 3.469828 sekund\n"
          ]
        }
      ]
    },
    {
      "cell_type": "code",
      "source": [
        "# Przedział ufności\n",
        "\n",
        "alpha = 0.05\n",
        "var_str = 0\n",
        "for j in range(m):\n",
        "    var_str += (1/m**2)*vars_opt[j]/Rj[j]\n",
        "left = s - (sc.stats.norm.ppf(1-alpha/2) * np.sqrt(var_str))\n",
        "right = s + (sc.stats.norm.ppf(1-alpha/2) * np.sqrt(var_str))\n",
        "conf_interval = [left, right]\n",
        "print(conf_interval)\n",
        "print(f\"Szerokość przedziału ufności: {right-left:.4f}\")"
      ],
      "metadata": {
        "id": "cmCkXzMOI342",
        "outputId": "6934c647-e5e9-4ff8-c934-d7424ee111fc",
        "colab": {
          "base_uri": "https://localhost:8080/"
        }
      },
      "execution_count": 96,
      "outputs": [
        {
          "output_type": "stream",
          "name": "stdout",
          "text": [
            "[12.547486740957723, 13.13900748101976]\n",
            "Szerokość przedziału ufności: 0.5915\n"
          ]
        }
      ]
    },
    {
      "cell_type": "code",
      "source": [
        "# Błąd bezwzględny\n",
        "\n",
        "error = np.abs(s - real)\n",
        "print(f\"Błąd bezwzględny: {error:.4f}\")"
      ],
      "metadata": {
        "id": "rrBJBlSYjBTF",
        "outputId": "88b05b18-8ba8-4922-ffbe-994fa8658893",
        "colab": {
          "base_uri": "https://localhost:8080/"
        }
      },
      "execution_count": 97,
      "outputs": [
        {
          "output_type": "stream",
          "name": "stdout",
          "text": [
            "Błąd bezwzględny: 0.5072\n"
          ]
        }
      ]
    },
    {
      "cell_type": "markdown",
      "source": [
        "### Przypadek $n>1$ - warstwy proporcjonalne"
      ],
      "metadata": {
        "id": "JSenp5mBvTZf"
      }
    },
    {
      "cell_type": "code",
      "source": [
        "Rj = [math.ceil(R/m) for i in range(m)]  # liczebność warstw\n",
        "\n",
        "n1 = 2\n",
        "n2 = 2**2\n",
        "n3 = 2**4\n",
        "n4 = 2**6\n",
        "n5 = 2**8\n",
        "n6 = 2**10\n",
        "\n",
        "estss = []"
      ],
      "metadata": {
        "id": "6QDRAFPgvFkH"
      },
      "execution_count": 101,
      "outputs": []
    },
    {
      "cell_type": "code",
      "source": [
        "start_time = time.time()\n",
        "s = stratified_prop(S_0, n1)\n",
        "print(f\"Estymowana wartość opcji dla n={2} wynosi: {s:.4f}\")\n",
        "estss.append(s)\n",
        "end_time = time.time()\n",
        "execution_time = end_time - start_time\n",
        "print(f\"Czas wykonania: {execution_time:.6f} sekund\")"
      ],
      "metadata": {
        "id": "rU1gYkTXwPgP",
        "outputId": "5f804564-e23f-428f-8cb2-ed4dba0cfc34",
        "colab": {
          "base_uri": "https://localhost:8080/"
        }
      },
      "execution_count": 102,
      "outputs": [
        {
          "output_type": "stream",
          "name": "stdout",
          "text": [
            "Estymowana wartość opcji dla n=2 wynosi: 9.0386\n",
            "Czas wykonania: 18.481946 sekund\n"
          ]
        }
      ]
    },
    {
      "cell_type": "code",
      "source": [
        "start_time = time.time()\n",
        "s = stratified_prop(S_0, n2)\n",
        "print(f\"Estymowana wartość opcji dla n={2**2} wynosi: {s:.4f}\")\n",
        "estss.append(s)\n",
        "end_time = time.time()\n",
        "execution_time = end_time - start_time\n",
        "print(f\"Czas wykonania: {execution_time:.6f} sekund\")"
      ],
      "metadata": {
        "id": "2Pyt_l8UwlBT",
        "outputId": "feaec8f4-6531-438b-805c-3534d6690c71",
        "colab": {
          "base_uri": "https://localhost:8080/"
        }
      },
      "execution_count": 103,
      "outputs": [
        {
          "output_type": "stream",
          "name": "stdout",
          "text": [
            "Estymowana wartość opcji dla n=4 wynosi: 6.5131\n",
            "Czas wykonania: 19.358574 sekund\n"
          ]
        }
      ]
    },
    {
      "cell_type": "code",
      "source": [
        "start_time = time.time()\n",
        "s = stratified_prop(S_0, n3)\n",
        "print(f\"Estymowana wartość opcji dla n={2**4} wynosi: {s:.4f}\")\n",
        "estss.append(s)\n",
        "end_time = time.time()\n",
        "execution_time = end_time - start_time\n",
        "print(f\"Czas wykonania: {execution_time:.6f} sekund\")"
      ],
      "metadata": {
        "id": "0vjk7-vawl-0",
        "outputId": "fd3ba7a4-2385-4857-e1e1-6bb3642cbefb",
        "colab": {
          "base_uri": "https://localhost:8080/"
        }
      },
      "execution_count": 104,
      "outputs": [
        {
          "output_type": "stream",
          "name": "stdout",
          "text": [
            "Estymowana wartość opcji dla n=16 wynosi: 3.7015\n",
            "Czas wykonania: 18.585242 sekund\n"
          ]
        }
      ]
    },
    {
      "cell_type": "code",
      "source": [
        "start_time = time.time()\n",
        "s = stratified_prop(S_0, n4)\n",
        "print(f\"Estymowana wartość opcji dla n={2**6} wynosi: {s:.4f}\")\n",
        "estss.append(s)\n",
        "end_time = time.time()\n",
        "execution_time = end_time - start_time\n",
        "print(f\"Czas wykonania: {execution_time:.6f} sekund\")"
      ],
      "metadata": {
        "id": "WKCLWzpbwm3Q",
        "outputId": "0ac189c8-2b9f-4e9c-9a13-b59fa41d2aa1",
        "colab": {
          "base_uri": "https://localhost:8080/"
        }
      },
      "execution_count": 105,
      "outputs": [
        {
          "output_type": "stream",
          "name": "stdout",
          "text": [
            "Estymowana wartość opcji dla n=64 wynosi: 2.4699\n",
            "Czas wykonania: 20.323043 sekund\n"
          ]
        }
      ]
    },
    {
      "cell_type": "code",
      "source": [
        "start_time = time.time()\n",
        "s = stratified_prop(S_0, n5)\n",
        "print(f\"Estymowana wartość opcji dla n={2**8} wynosi: {s:.4f}\")\n",
        "estss.append(s)\n",
        "end_time = time.time()\n",
        "execution_time = end_time - start_time\n",
        "print(f\"Czas wykonania: {execution_time:.6f} sekund\")"
      ],
      "metadata": {
        "id": "ksQoahdNwnbs",
        "outputId": "77c88d63-ea8c-42e7-d848-ecb5d578d100",
        "colab": {
          "base_uri": "https://localhost:8080/"
        }
      },
      "execution_count": 106,
      "outputs": [
        {
          "output_type": "stream",
          "name": "stdout",
          "text": [
            "Estymowana wartość opcji dla n=256 wynosi: 1.9880\n",
            "Czas wykonania: 39.864005 sekund\n"
          ]
        }
      ]
    },
    {
      "cell_type": "code",
      "source": [
        "start_time = time.time()\n",
        "s = stratified_prop(S_0, n6)\n",
        "print(f\"Estymowana wartość opcji dla n={2**10} wynosi: {s:.4f}\")\n",
        "estss.append(s)\n",
        "end_time = time.time()\n",
        "execution_time = end_time - start_time\n",
        "print(f\"Czas wykonania: {execution_time:.6f} sekund\")"
      ],
      "metadata": {
        "id": "n0zG_SxBwoEr",
        "outputId": "1982bb73-a03f-49e5-d227-37e47172db88",
        "colab": {
          "base_uri": "https://localhost:8080/"
        }
      },
      "execution_count": 107,
      "outputs": [
        {
          "output_type": "stream",
          "name": "stdout",
          "text": [
            "Estymowana wartość opcji dla n=1024 wynosi: 1.8962\n",
            "Czas wykonania: 86.753491 sekund\n"
          ]
        }
      ]
    },
    {
      "cell_type": "code",
      "source": [
        "plt.scatter([n1, n2, n3, n4, n5, n6], estss)\n",
        "plt.ylabel(\"Estimated value\")\n",
        "plt.xlabel(\"Dimension (n)\")\n",
        "plt.title(\"Stratified Estimator results for n>1 (proportional)\")"
      ],
      "metadata": {
        "id": "9BXmAVDO5b0w",
        "outputId": "82d9512c-d226-46bb-ecc2-eaabb615ef55",
        "colab": {
          "base_uri": "https://localhost:8080/",
          "height": 490
        }
      },
      "execution_count": 108,
      "outputs": [
        {
          "output_type": "execute_result",
          "data": {
            "text/plain": [
              "Text(0.5, 1.0, 'Stratified Estimator results for n>1 (proportional)')"
            ]
          },
          "metadata": {},
          "execution_count": 108
        },
        {
          "output_type": "display_data",
          "data": {
            "text/plain": [
              "<Figure size 640x480 with 1 Axes>"
            ],
            "image/png": "[encoded data removed]"
          },
          "metadata": {}
        }
      ]
    },
    {
      "cell_type": "markdown",
      "source": [
        "### Przypadek $n>1$ - warstwy optymalne"
      ],
      "metadata": {
        "id": "OSt8Q4GRAkE6"
      }
    },
    {
      "cell_type": "code",
      "source": [
        "Rj = []\n",
        "for j in range(m):\n",
        "    Rj.append((R * 1/m * np.sqrt(vars_opt[j]))/sum((np.sqrt(vars_opt)/m)))\n",
        "\n",
        "n1 = 2\n",
        "n2 = 2**2\n",
        "n3 = 2**4\n",
        "n4 = 2**6\n",
        "n5 = 2**8\n",
        "n6 = 2**10\n",
        "\n",
        "estss = []"
      ],
      "metadata": {
        "id": "LpB4BZW8GsGG"
      },
      "execution_count": 109,
      "outputs": []
    },
    {
      "cell_type": "code",
      "source": [
        "start_time = time.time()\n",
        "s = stratified_opt(S_0, n1)\n",
        "print(f\"Estymowana wartość opcji dla n={2} wynosi: {s:.4f}\")\n",
        "estss.append(s)\n",
        "end_time = time.time()\n",
        "execution_time = end_time - start_time\n",
        "print(f\"Czas wykonania: {execution_time:.6f} sekund\")"
      ],
      "metadata": {
        "id": "KunfODPdG4R5",
        "outputId": "8ff943f3-cab2-4029-91ef-87eb433003aa",
        "colab": {
          "base_uri": "https://localhost:8080/"
        }
      },
      "execution_count": 110,
      "outputs": [
        {
          "output_type": "stream",
          "name": "stdout",
          "text": [
            "Estymowana wartość opcji dla n=2 wynosi: 9.1311\n",
            "Czas wykonania: 1.715412 sekund\n"
          ]
        }
      ]
    },
    {
      "cell_type": "code",
      "source": [
        "start_time = time.time()\n",
        "s = stratified_opt(S_0, n2)\n",
        "print(f\"Estymowana wartość opcji dla n={2**2} wynosi: {s:.4f}\")\n",
        "estss.append(s)\n",
        "end_time = time.time()\n",
        "execution_time = end_time - start_time\n",
        "print(f\"Czas wykonania: {execution_time:.6f} sekund\")"
      ],
      "metadata": {
        "id": "sB8uJLpIG7vE",
        "outputId": "dc44e963-e73a-437f-f86a-57f970656b88",
        "colab": {
          "base_uri": "https://localhost:8080/"
        }
      },
      "execution_count": 111,
      "outputs": [
        {
          "output_type": "stream",
          "name": "stdout",
          "text": [
            "Estymowana wartość opcji dla n=4 wynosi: 6.6673\n",
            "Czas wykonania: 2.498200 sekund\n"
          ]
        }
      ]
    },
    {
      "cell_type": "code",
      "source": [
        "start_time = time.time()\n",
        "s = stratified_opt(S_0, n3)\n",
        "print(f\"Estymowana wartość opcji dla n={2**4} wynosi: {s:.4f}\")\n",
        "estss.append(s)\n",
        "end_time = time.time()\n",
        "execution_time = end_time - start_time\n",
        "print(f\"Czas wykonania: {execution_time:.6f} sekund\")"
      ],
      "metadata": {
        "id": "2hRDCJ8-G8ry",
        "outputId": "85b1f160-23b9-4dab-ae14-f4f8ff7df8a8",
        "colab": {
          "base_uri": "https://localhost:8080/"
        }
      },
      "execution_count": 112,
      "outputs": [
        {
          "output_type": "stream",
          "name": "stdout",
          "text": [
            "Estymowana wartość opcji dla n=16 wynosi: 3.6458\n",
            "Czas wykonania: 2.352428 sekund\n"
          ]
        }
      ]
    },
    {
      "cell_type": "code",
      "source": [
        "start_time = time.time()\n",
        "s = stratified_opt(S_0, n4)\n",
        "print(f\"Estymowana wartość opcji dla n={2**6} wynosi: {s:.4f}\")\n",
        "estss.append(s)\n",
        "end_time = time.time()\n",
        "execution_time = end_time - start_time\n",
        "print(f\"Czas wykonania: {execution_time:.6f} sekund\")"
      ],
      "metadata": {
        "id": "q9-xNz6lG9sE",
        "outputId": "3056e06b-cc2a-409f-c45c-5eb0c6d82c0d",
        "colab": {
          "base_uri": "https://localhost:8080/"
        }
      },
      "execution_count": 113,
      "outputs": [
        {
          "output_type": "stream",
          "name": "stdout",
          "text": [
            "Estymowana wartość opcji dla n=64 wynosi: 2.4530\n",
            "Czas wykonania: 1.812395 sekund\n"
          ]
        }
      ]
    },
    {
      "cell_type": "code",
      "source": [
        "start_time = time.time()\n",
        "s = stratified_opt(S_0, n5)\n",
        "print(f\"Estymowana wartość opcji dla n={2**8} wynosi: {s:.4f}\")\n",
        "estss.append(s)\n",
        "end_time = time.time()\n",
        "execution_time = end_time - start_time\n",
        "print(f\"Czas wykonania: {execution_time:.6f} sekund\")"
      ],
      "metadata": {
        "id": "wcHKaLI4G-Qu",
        "outputId": "97fb3fb3-2e5e-4c94-b8a1-58f587691727",
        "colab": {
          "base_uri": "https://localhost:8080/"
        }
      },
      "execution_count": 114,
      "outputs": [
        {
          "output_type": "stream",
          "name": "stdout",
          "text": [
            "Estymowana wartość opcji dla n=256 wynosi: 1.9837\n",
            "Czas wykonania: 3.353616 sekund\n"
          ]
        }
      ]
    },
    {
      "cell_type": "code",
      "source": [
        "start_time = time.time()\n",
        "s = stratified_opt(S_0, n6)\n",
        "print(f\"Estymowana wartość opcji dla n={2**10} wynosi: {s:.4f}\")\n",
        "estss.append(s)\n",
        "end_time = time.time()\n",
        "execution_time = end_time - start_time\n",
        "print(f\"Czas wykonania: {execution_time:.6f} sekund\")"
      ],
      "metadata": {
        "id": "zqWoL-mVG_DY",
        "outputId": "677608b3-049e-4d18-aea9-0cc01e20b8f3",
        "colab": {
          "base_uri": "https://localhost:8080/"
        }
      },
      "execution_count": 115,
      "outputs": [
        {
          "output_type": "stream",
          "name": "stdout",
          "text": [
            "Estymowana wartość opcji dla n=1024 wynosi: 1.9061\n",
            "Czas wykonania: 10.012044 sekund\n"
          ]
        }
      ]
    },
    {
      "cell_type": "code",
      "source": [
        "plt.scatter([n1, n2, n3, n4, n5, n6], estss)\n",
        "plt.ylabel(\"Estimated value\")\n",
        "plt.xlabel(\"Dimension (n)\")\n",
        "plt.title(\"Stratified Estimator results for n>1 (optimal)\")"
      ],
      "metadata": {
        "id": "w4w5kHtlHkk6",
        "outputId": "14d95cf0-0f53-4c74-e4c1-c6406fa3e53a",
        "colab": {
          "base_uri": "https://localhost:8080/",
          "height": 490
        }
      },
      "execution_count": 116,
      "outputs": [
        {
          "output_type": "execute_result",
          "data": {
            "text/plain": [
              "Text(0.5, 1.0, 'Stratified Estimator results for n>1 (optimal)')"
            ]
          },
          "metadata": {},
          "execution_count": 116
        },
        {
          "output_type": "display_data",
          "data": {
            "text/plain": [
              "<Figure size 640x480 with 1 Axes>"
            ],
            "image/png": "[encoded data removed]"
          },
          "metadata": {}
        }
      ]
    },
    {
      "cell_type": "markdown",
      "source": [
        "## 4. Antithetic Estimator\n",
        "\n",
        "### Przypadek $n=1$"
      ],
      "metadata": {
        "id": "1_rVbtrO3K4K"
      }
    },
    {
      "cell_type": "code",
      "source": [
        "z = np.random.normal(0, 1, int(R))\n",
        "z_anty = -z  # zmienne antytetyczne\n",
        "S_T = S_0 * np.exp(r - sigma**2/2 + sigma * z)  # geometryczny ruch Browna\n",
        "S_T_anty = S_0 * np.exp(r - sigma**2/2 + sigma * z_anty)\n",
        "y = np.maximum(S_T - K, 0)\n",
        "y_anty = np.maximum(S_T - K, 0)\n",
        "est_I = np.exp(-r) * (np.mean(y) + np.mean(y_anty)) / 2  # średnia\n",
        "\n",
        "print(f\"Estymowana wartość opcji to: {est_I:.4f}\")"
      ],
      "metadata": {
        "colab": {
          "base_uri": "https://localhost:8080/"
        },
        "id": "CdjPKRhb5SGt",
        "outputId": "4250819f-e752-4565-d809-fa10dd9105c5"
      },
      "execution_count": 3,
      "outputs": [
        {
          "output_type": "stream",
          "name": "stdout",
          "text": [
            "Estymowana wartość opcji to: 12.3620\n"
          ]
        }
      ]
    },
    {
      "cell_type": "code",
      "source": [
        "# Przedział ufności\n",
        "\n",
        "alpha = 0.05\n",
        "vec = [i for i in y]\n",
        "vec.extend(i for i in y_anty)\n",
        "var_anty_cmc = np.var(vec)/R\n",
        "var_anty = var_anty_cmc*(1 + np.corrcoef(S_T, S_T_anty)[0,1])\n",
        "left = est_I - (sc.stats.norm.ppf(1-alpha/2) * np.sqrt(var_anty))\n",
        "right = est_I + (sc.stats.norm.ppf(1-alpha/2) * np.sqrt(var_anty))\n",
        "conf_interval = [left, right]\n",
        "print(conf_interval)\n",
        "print(f\"Szerokość przedziału ufności: {right-left:.4f}\")"
      ],
      "metadata": {
        "id": "we50SZ-mWAvK",
        "outputId": "6a219fc1-0383-429b-aacd-83c27b26f50d",
        "colab": {
          "base_uri": "https://localhost:8080/"
        }
      },
      "execution_count": 4,
      "outputs": [
        {
          "output_type": "stream",
          "name": "stdout",
          "text": [
            "[12.332460701452298, 12.391575340828503]\n",
            "Szerokość przedziału ufności: 0.0591\n"
          ]
        }
      ]
    },
    {
      "cell_type": "code",
      "source": [
        "# Błąd bezwzględny\n",
        "\n",
        "error = np.abs(est_I - real)\n",
        "print(f\"Błąd bezwzględny: {error:.4f}\")"
      ],
      "metadata": {
        "id": "kOtkfELkWiVk",
        "outputId": "da4255a3-8145-49cd-e41b-d8e7b4a58fcd",
        "colab": {
          "base_uri": "https://localhost:8080/"
        }
      },
      "execution_count": 7,
      "outputs": [
        {
          "output_type": "stream",
          "name": "stdout",
          "text": [
            "Błąd bezwzględny: 0.0260\n"
          ]
        }
      ]
    },
    {
      "cell_type": "markdown",
      "source": [
        "### 5. Control Variate Estimator\n",
        "\n",
        "### Przypadek $n=1$"
      ],
      "metadata": {
        "id": "UYKREHRLCM10"
      }
    },
    {
      "cell_type": "code",
      "source": [
        "z = np.random.normal(0, 1, int(R))\n",
        "S_T = S_0 * np.exp(r - sigma**2/2 + sigma * z)  # geometryczny ruch Browna\n",
        "y = np.maximum(S_T - K, 0)\n",
        "X = z  # zmienna kontrolna B(1), bo z ~ N(0, 1)\n",
        "exp_X = 0  # znana wartość oczekiwana zmiennej B(1)\n",
        "est_I_cmc = np.exp(-r) * np.mean(y)  # Y_R^{CMC} \"z daszkiem\", wykorzystywany we wzorze\n",
        "X_R = np.mean(X)  # średnia, czyli X_R \"z daszkiem\"\n",
        "\n",
        "c1 = np.cov(y, X)[0, 1]\n",
        "c2 = np.var(X)\n",
        "c = c1 / c2  # współczynnik c\n",
        "\n",
        "est_I = est_I_cmc + c * (X_R - exp_X)\n",
        "\n",
        "print(f\"Estymowana wartość opcji: {est_I:.4f}\")"
      ],
      "metadata": {
        "id": "HYt0MvqrCY2e",
        "colab": {
          "base_uri": "https://localhost:8080/"
        },
        "outputId": "1dd8cb75-00cd-470e-ebbf-f1d843d529c0"
      },
      "execution_count": null,
      "outputs": [
        {
          "output_type": "stream",
          "name": "stdout",
          "text": [
            "Estymowana wartość opcji: 12.3438\n"
          ]
        }
      ]
    },
    {
      "cell_type": "code",
      "source": [
        "# Przedział ufności\n",
        "\n",
        "alpha = 0.05\n",
        "var_cv_cmc = np.var(y)/R\n",
        "cor = np.corrcoef(S_T, X)[0,1]\n",
        "var_cv = var_cv_cmc*(1 - cor**2)\n",
        "left = est_I - (sc.stats.norm.ppf(1-alpha/2) * np.sqrt(var_cv))\n",
        "right = est_I + (sc.stats.norm.ppf(1-alpha/2) * np.sqrt(var_cv))\n",
        "conf_interval = [left, right]\n",
        "print(conf_interval)\n",
        "print(f\"Szerokość przedziału ufności: {right-left:.4f}\")"
      ],
      "metadata": {
        "id": "wJ5mu2p03qpq",
        "outputId": "3614d117-dc5b-4f83-af22-90b1917aecae",
        "colab": {
          "base_uri": "https://localhost:8080/"
        }
      },
      "execution_count": null,
      "outputs": [
        {
          "output_type": "stream",
          "name": "stdout",
          "text": [
            "[12.322597444793118, 12.365009369410423]\n",
            "Szerokość przedziału ufności: 0.0424\n"
          ]
        }
      ]
    },
    {
      "cell_type": "code",
      "source": [
        "# Błąd bezwzględny\n",
        "\n",
        "error = np.abs(est_I - real)\n",
        "print(f\"Błąd bezwzględny: {error:.4f}\")"
      ],
      "metadata": {
        "id": "-lC3wAECW_P0",
        "outputId": "5aff6fb4-4794-455c-e592-a01d64172123",
        "colab": {
          "base_uri": "https://localhost:8080/"
        }
      },
      "execution_count": null,
      "outputs": [
        {
          "output_type": "stream",
          "name": "stdout",
          "text": [
            "Błąd bezwzględny: 0.0078\n"
          ]
        }
      ]
    }
  ]
}