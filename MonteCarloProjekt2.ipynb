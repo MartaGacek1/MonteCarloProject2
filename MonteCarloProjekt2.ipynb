{
  "nbformat": 4,
  "nbformat_minor": 0,
  "metadata": {
    "colab": {
      "provenance": [],
      "authorship_tag": "ABX9TyOxiOqMDTtI53TYwCKeKPBq",
      "include_colab_link": true
    },
    "kernelspec": {
      "name": "python3",
      "display_name": "Python 3"
    },
    "language_info": {
      "name": "python"
    }
  },
  "cells": [
    {
      "cell_type": "markdown",
      "metadata": {
        "id": "view-in-github",
        "colab_type": "text"
      },
      "source": [
        "<a href=\"https://colab.research.google.com/github/MartaGacek1/MonteCarloProject2/blob/main/MonteCarloProjekt2.ipynb\" target=\"_parent\"><img src=\"https://colab.research.google.com/assets/colab-badge.svg\" alt=\"Open In Colab\"/></a>"
      ]
    },
    {
      "cell_type": "markdown",
      "source": [
        "# Projekt II - Wprowadzenie do symulacji i metod Monte Carlo\n",
        "\n",
        "## Marta Gacek"
      ],
      "metadata": {
        "id": "89PQrxQASVoX"
      }
    },
    {
      "cell_type": "code",
      "source": [
        "import numpy as np\n",
        "import matplotlib.pyplot as plt\n",
        "import scipy as sc\n",
        "import time\n",
        "import math\n",
        "\n",
        "np.random.seed(123)\n",
        "\n",
        "S_0 = 100\n",
        "K = 100\n",
        "r = 0.05\n",
        "sigma = 0.25\n",
        "R = 100000"
      ],
      "metadata": {
        "id": "rnwdFoheSY87"
      },
      "execution_count": 19,
      "outputs": []
    },
    {
      "cell_type": "markdown",
      "source": [
        "## 1. Prawdziwa wartość opcji\n",
        "\n",
        "Ta wartość zostanie wykorzystana do porównywania wyników w przypadkach gdy $n=1$ dla różnych estymatorów."
      ],
      "metadata": {
        "id": "PjJBfANJ-8q7"
      }
    },
    {
      "cell_type": "code",
      "source": [
        "d1 = (np.log(S_0/K) + r + sigma**2/2)/sigma\n",
        "d2 = d1 - sigma\n",
        "real = S_0 * sc.stats.norm.cdf(d1) - K * np.exp(-r) * sc.stats.norm.cdf(d2)\n",
        "print(real)"
      ],
      "metadata": {
        "colab": {
          "base_uri": "https://localhost:8080/"
        },
        "id": "NRL3M5_K_A30",
        "outputId": "693a5b4f-adc9-4ae5-8815-113e9af23d54"
      },
      "execution_count": 57,
      "outputs": [
        {
          "output_type": "stream",
          "name": "stdout",
          "text": [
            "12.335998930368717\n"
          ]
        }
      ]
    },
    {
      "cell_type": "markdown",
      "source": [
        "## 2. Crude Monte Carlo Estimator"
      ],
      "metadata": {
        "id": "ogdI1bzQS177"
      }
    },
    {
      "cell_type": "markdown",
      "source": [
        "### Przypadek $n=1$"
      ],
      "metadata": {
        "id": "x-FbryzAzbYY"
      }
    },
    {
      "cell_type": "code",
      "source": [
        "import numpy as np\n",
        "\n",
        "start_time = time.time()\n",
        "\n",
        "z = np.random.normal(0, 1, R)  # zmienne z rozkładu standardowego normalnego\n",
        "S_T = S_0 * np.exp(r - (sigma**2)/2 + sigma * z)  # geometryczny ruch Browna\n",
        "y = np.maximum(S_T - K, 0)\n",
        "est_I = np.exp(-r) * np.mean(y)\n",
        "\n",
        "print(f\"Estymowana wartość opcji dla n=1 to: {est_I:.4f}\")\n",
        "\n",
        "end_time = time.time()\n",
        "execution_time = end_time - start_time\n",
        "print(f\"Czas wykonania: {execution_time:.6f} sekund\")"
      ],
      "metadata": {
        "colab": {
          "base_uri": "https://localhost:8080/"
        },
        "id": "dZnZNnVmS-6E",
        "outputId": "5be0036c-5577-4731-d067-da7b328fdb84"
      },
      "execution_count": 55,
      "outputs": [
        {
          "output_type": "stream",
          "name": "stdout",
          "text": [
            "Estymowana wartość opcji dla n=1 to: 12.3066\n",
            "Czas wykonania: 0.013113 sekund\n"
          ]
        }
      ]
    },
    {
      "cell_type": "code",
      "source": [
        "# Przedział ufności\n",
        "\n",
        "alpha = 0.05\n",
        "sig = np.var(y)\n",
        "left = est_I - (sc.stats.norm.ppf(1-alpha/2) * np.sqrt(sig)/np.sqrt(R))\n",
        "right = est_I + (sc.stats.norm.ppf(1-alpha/2) * np.sqrt(sig)/np.sqrt(R))\n",
        "conf_interval = [left, right]\n",
        "print(conf_interval)\n",
        "print(f\"Szerokość przedziału ufności: {right-left:.4f}\")"
      ],
      "metadata": {
        "colab": {
          "base_uri": "https://localhost:8080/"
        },
        "id": "l_MGOI4m27u3",
        "outputId": "9c04da56-f11a-495f-8420-92274dedd714"
      },
      "execution_count": 56,
      "outputs": [
        {
          "output_type": "stream",
          "name": "stdout",
          "text": [
            "[12.18569738582271, 12.427511768197448]\n",
            "Szerokość przedziału ufności: 0.2418\n"
          ]
        }
      ]
    },
    {
      "cell_type": "code",
      "source": [
        "# Błąd bezwzględny\n",
        "\n",
        "error = np.abs(est_I - real)\n",
        "print(f\"Błąd bezwzględny: {error:.4f}\")"
      ],
      "metadata": {
        "id": "mptzpMuqWJ6Y",
        "outputId": "1a3b1885-7818-492b-c020-128e7e729023",
        "colab": {
          "base_uri": "https://localhost:8080/"
        }
      },
      "execution_count": 59,
      "outputs": [
        {
          "output_type": "stream",
          "name": "stdout",
          "text": [
            "Błąd bezwzględny: 0.0294\n"
          ]
        }
      ]
    },
    {
      "cell_type": "markdown",
      "source": [
        "### Przypadek $n > 1$"
      ],
      "metadata": {
        "id": "Am0oDSZX1Buj"
      }
    },
    {
      "cell_type": "code",
      "source": [
        "n1 = 2\n",
        "n2 = 2**2\n",
        "n3 = 2**4\n",
        "n4 = 2**7\n",
        "n5 = 2**10\n",
        "n6 = 2**12\n",
        "\n",
        "ests = []\n",
        "\n",
        "def est(n, S_0 = 100, K = 100, r = 0.05, sigma = 0.25, R = 100000):\n",
        "  step = 1/n\n",
        "  z = np.random.normal(0, 1, (R, n))\n",
        "  prices = np.zeros((R, n))\n",
        "  prices[:, 0] = S_0\n",
        "  for t in range(1, n):\n",
        "    prices[:, t] = prices[:, t-1] * np.exp((r - sigma**2/2) * step + sigma * np.sqrt(step) * z[:, t-1])  # geometryczny ruch Browna\n",
        "  A_n = np.mean(prices, axis=1)\n",
        "  y = np.maximum(A_n - K, 0)\n",
        "  est_I = np.exp(-r) * np.mean(y)\n",
        "  ests.append(est_I)\n",
        "  print(f\"Estymowana wartość opcji dla n={n} wynosi: {est_I:.4f}\")"
      ],
      "metadata": {
        "id": "Q-k93rEC8fCb"
      },
      "execution_count": null,
      "outputs": []
    },
    {
      "cell_type": "code",
      "source": [
        "start_time = time.time()\n",
        "print(est(n1))\n",
        "end_time = time.time()\n",
        "execution_time = end_time - start_time\n",
        "print(f\"Czas wykonania: {execution_time:.6f} sekund\")"
      ],
      "metadata": {
        "colab": {
          "base_uri": "https://localhost:8080/"
        },
        "id": "mWjBJr3CIlc8",
        "outputId": "38470569-6614-4ef8-ed50-249e77dabe60"
      },
      "execution_count": null,
      "outputs": [
        {
          "output_type": "stream",
          "name": "stdout",
          "text": [
            "Estymowana wartość opcji dla n=2 wynosi: 4.0336\n",
            "None\n",
            "Czas wykonania: 0.015048 sekund\n"
          ]
        }
      ]
    },
    {
      "cell_type": "code",
      "source": [
        "start_time = time.time()\n",
        "print(est(n2))\n",
        "end_time = time.time()\n",
        "execution_time = end_time - start_time\n",
        "print(f\"Czas wykonania: {execution_time:.6f} sekund\")"
      ],
      "metadata": {
        "colab": {
          "base_uri": "https://localhost:8080/"
        },
        "id": "k5PeLaxUKfVc",
        "outputId": "080d1e89-5961-4462-c947-8f9dfda9e983"
      },
      "execution_count": null,
      "outputs": [
        {
          "output_type": "stream",
          "name": "stdout",
          "text": [
            "Estymowana wartość opcji dla n=4 wynosi: 5.4782\n",
            "None\n",
            "Czas wykonania: 0.039517 sekund\n"
          ]
        }
      ]
    },
    {
      "cell_type": "code",
      "source": [
        "start_time = time.time()\n",
        "print(est(n3))\n",
        "end_time = time.time()\n",
        "execution_time = end_time - start_time\n",
        "print(f\"Czas wykonania: {execution_time:.6f} sekund\")"
      ],
      "metadata": {
        "colab": {
          "base_uri": "https://localhost:8080/"
        },
        "id": "dN_vL9e6KgQB",
        "outputId": "0e8845fb-3d3f-4a6e-858c-263fcbe18ac4"
      },
      "execution_count": null,
      "outputs": [
        {
          "output_type": "stream",
          "name": "stdout",
          "text": [
            "Estymowana wartość opcji dla n=16 wynosi: 6.4883\n",
            "None\n",
            "Czas wykonania: 0.136501 sekund\n"
          ]
        }
      ]
    },
    {
      "cell_type": "code",
      "source": [
        "start_time = time.time()\n",
        "print(est(n4))\n",
        "end_time = time.time()\n",
        "execution_time = end_time - start_time\n",
        "print(f\"Czas wykonania: {execution_time:.6f} sekund\")"
      ],
      "metadata": {
        "colab": {
          "base_uri": "https://localhost:8080/"
        },
        "id": "YahuEtQ4KhDI",
        "outputId": "53d5a8bf-1644-4422-8490-e8e5473ce064"
      },
      "execution_count": null,
      "outputs": [
        {
          "output_type": "stream",
          "name": "stdout",
          "text": [
            "Estymowana wartość opcji dla n=128 wynosi: 6.7970\n",
            "None\n",
            "Czas wykonania: 1.297706 sekund\n"
          ]
        }
      ]
    },
    {
      "cell_type": "code",
      "source": [
        "start_time = time.time()\n",
        "print(est(n5))\n",
        "end_time = time.time()\n",
        "execution_time = end_time - start_time\n",
        "print(f\"Czas wykonania: {execution_time:.6f} sekund\")"
      ],
      "metadata": {
        "colab": {
          "base_uri": "https://localhost:8080/"
        },
        "id": "megiDwO6KiGR",
        "outputId": "5bedbb2d-e832-42d7-b3d7-60fff2b05611"
      },
      "execution_count": null,
      "outputs": [
        {
          "output_type": "stream",
          "name": "stdout",
          "text": [
            "Estymowana wartość opcji dla n=1024 wynosi: 6.8153\n",
            "None\n",
            "Czas wykonania: 14.026404 sekund\n"
          ]
        }
      ]
    },
    {
      "cell_type": "code",
      "source": [
        "start_time = time.time()\n",
        "print(est(n6))\n",
        "end_time = time.time()\n",
        "execution_time = end_time - start_time\n",
        "print(f\"Czas wykonania: {execution_time:.6f} sekund\")"
      ],
      "metadata": {
        "colab": {
          "base_uri": "https://localhost:8080/"
        },
        "id": "2LsUIU5RNvti",
        "outputId": "18a6543f-52e1-4750-d276-a8610a40baf1"
      },
      "execution_count": null,
      "outputs": [
        {
          "output_type": "stream",
          "name": "stdout",
          "text": [
            "Estymowana wartość opcji dla n=4096 wynosi: 6.8331\n",
            "None\n",
            "Czas wykonania: 58.747688 sekund\n"
          ]
        }
      ]
    },
    {
      "cell_type": "code",
      "source": [
        "plt.scatter([n1, n2, n3, n4, n5, n6], ests)\n",
        "plt.ylabel(\"Estimated value\")\n",
        "plt.xlabel(\"Dimension (n)\")\n",
        "plt.title(\"Crude Monte Carlo Estimator results for n>1\")"
      ],
      "metadata": {
        "colab": {
          "base_uri": "https://localhost:8080/",
          "height": 489
        },
        "id": "Vxlq7wuTLzr-",
        "outputId": "e9802b99-02f0-4d87-8428-b4cbfadd3144"
      },
      "execution_count": null,
      "outputs": [
        {
          "output_type": "execute_result",
          "data": {
            "text/plain": [
              "Text(0.5, 1.0, 'Crude Monte Carlo Estimator results for n>1')"
            ]
          },
          "metadata": {},
          "execution_count": 35
        },
        {
          "output_type": "display_data",
          "data": {
            "text/plain": [
              "<Figure size 640x480 with 1 Axes>"
            ],
            "image/png": "[encoded data removed]"
          },
          "metadata": {}
        }
      ]
    },
    {
      "cell_type": "markdown",
      "source": [
        "## 3.Stratified Estimator\n",
        "\n",
        "### Przypadek $n=1$ - warstwy proporcjonalne\n"
      ],
      "metadata": {
        "id": "ZYtwXlOYPpSq"
      }
    },
    {
      "cell_type": "code",
      "source": [
        "m = 10\n",
        "\n",
        "Rj = [math.ceil(R/m) for i in range(m)]"
      ],
      "metadata": {
        "id": "3RURQbmpPumO"
      },
      "execution_count": null,
      "outputs": []
    },
    {
      "cell_type": "markdown",
      "source": [
        "### Przypadek $n=1$ - warstwy optymalne"
      ],
      "metadata": {
        "id": "OSt8Q4GRAkE6"
      }
    },
    {
      "cell_type": "markdown",
      "source": [
        "## 4. Antithetic Estimator\n",
        "\n",
        "### Przypadek $n=1$"
      ],
      "metadata": {
        "id": "1_rVbtrO3K4K"
      }
    },
    {
      "cell_type": "code",
      "source": [
        "z = np.random.normal(0, 1, int(R))\n",
        "z_anty = -z  # zmienne antytetyczne\n",
        "S_T = S_0 * np.exp(r - sigma**2/2 + sigma * z)  # geometryczny ruch Browna\n",
        "S_T_anty = S_0 * np.exp(r - sigma**2/2 + sigma * z_anty)\n",
        "y = np.maximum(S_T - K, 0)\n",
        "y_anty = np.maximum(S_T - K, 0)\n",
        "est_I = np.exp(-r) * (np.mean(y) + np.mean(y_anty)) / 2  # średnia\n",
        "\n",
        "print(f\"Estymowana wartość opcji to: {est_I:.4f}\")"
      ],
      "metadata": {
        "colab": {
          "base_uri": "https://localhost:8080/"
        },
        "id": "CdjPKRhb5SGt",
        "outputId": "77503910-7c01-451d-97dd-2293eeb98b91"
      },
      "execution_count": 63,
      "outputs": [
        {
          "output_type": "stream",
          "name": "stdout",
          "text": [
            "Estymowana wartość opcji to: 12.3135\n"
          ]
        }
      ]
    },
    {
      "cell_type": "code",
      "source": [
        "# Przedział ufności\n",
        "\n",
        "alpha = 0.05\n",
        "vec = [i for i in y]\n",
        "vec.extend(i for i in y_anty)\n",
        "var_anty_cmc = np.var(vec)/R\n",
        "var_anty = var_anty_cmc*(1 + np.corrcoef(S_T, S_T_anty)[0,1])\n",
        "left = est_I - (sc.stats.norm.ppf(1-alpha/2) * np.sqrt(var_anty))\n",
        "right = est_I + (sc.stats.norm.ppf(1-alpha/2) * np.sqrt(var_anty))\n",
        "conf_interval = [left, right]\n",
        "print(conf_interval)\n",
        "print(f\"Szerokość przedziału ufności: {right-left:.4f}\")"
      ],
      "metadata": {
        "id": "we50SZ-mWAvK",
        "outputId": "b61d7f97-c707-4ccc-8651-7f6a615fc965",
        "colab": {
          "base_uri": "https://localhost:8080/"
        }
      },
      "execution_count": 64,
      "outputs": [
        {
          "output_type": "stream",
          "name": "stdout",
          "text": [
            "[12.28368068147508, 12.343350128571878]\n",
            "Szerokość przedziału ufności: 0.0597\n"
          ]
        }
      ]
    },
    {
      "cell_type": "code",
      "source": [
        "# Błąd bezwzględny\n",
        "\n",
        "error = np.abs(est_I - real)\n",
        "print(f\"Błąd bezwzględny: {error:.4f}\")"
      ],
      "metadata": {
        "id": "kOtkfELkWiVk",
        "outputId": "acfa355b-f9ad-43e2-ec4e-283d7923ac2c",
        "colab": {
          "base_uri": "https://localhost:8080/"
        }
      },
      "execution_count": 65,
      "outputs": [
        {
          "output_type": "stream",
          "name": "stdout",
          "text": [
            "Błąd bezwzględny: 0.0225\n"
          ]
        }
      ]
    },
    {
      "cell_type": "markdown",
      "source": [
        "### 5. Control Variate Estimator\n",
        "\n",
        "### Przypadek $n=1$"
      ],
      "metadata": {
        "id": "UYKREHRLCM10"
      }
    },
    {
      "cell_type": "code",
      "source": [
        "z = np.random.normal(0, 1, int(R))\n",
        "S_T = S_0 * np.exp(r - sigma**2/2 + sigma * z)  # geometryczny ruch Browna\n",
        "y = np.maximum(S_T - K, 0)\n",
        "X = z  # zmienna kontrolna B(1), bo z ~ N(0, 1)\n",
        "exp_X = 0  # znana wartość oczekiwana zmiennej B(1)\n",
        "est_I_cmc = np.exp(-r) * np.mean(y)  # Y_R^{CMC} \"z daszkiem\", wykorzystywany we wzorze\n",
        "X_R = np.mean(X)  # średnia, czyli X_R \"z daszkiem\"\n",
        "\n",
        "c1 = np.cov(y, X)[0, 1]\n",
        "c2 = np.var(X)\n",
        "c = c1 / c2  # współczynnik c\n",
        "\n",
        "est_I = est_I_cmc + c * (X_R - exp_X)\n",
        "\n",
        "print(f\"Estymowana wartość opcji: {est_I:.4f}\")"
      ],
      "metadata": {
        "id": "HYt0MvqrCY2e",
        "colab": {
          "base_uri": "https://localhost:8080/"
        },
        "outputId": "9c712887-d7d1-4d4c-fab1-e18a86c2469c"
      },
      "execution_count": 81,
      "outputs": [
        {
          "output_type": "stream",
          "name": "stdout",
          "text": [
            "Estymowana wartość opcji: 12.3444\n"
          ]
        }
      ]
    },
    {
      "cell_type": "code",
      "source": [
        "# Przedział ufności\n",
        "\n",
        "alpha = 0.05\n",
        "var_cv_cmc = np.var(y)/R\n",
        "cor = np.corrcoef(S_T, X)[0,1]\n",
        "var_cv = var_cv_cmc*(1 - cor**2)\n",
        "left = est_I - (sc.stats.norm.ppf(1-alpha/2) * np.sqrt(var_cv))\n",
        "right = est_I + (sc.stats.norm.ppf(1-alpha/2) * np.sqrt(var_cv))\n",
        "conf_interval = [left, right]\n",
        "print(conf_interval)\n",
        "print(f\"Szerokość przedziału ufności: {right-left:.4f}\")"
      ],
      "metadata": {
        "id": "wJ5mu2p03qpq",
        "outputId": "77cafdc7-6c30-4ef1-928c-15f9a97388cf",
        "colab": {
          "base_uri": "https://localhost:8080/"
        }
      },
      "execution_count": 82,
      "outputs": [
        {
          "output_type": "stream",
          "name": "stdout",
          "text": [
            "[12.323069135363001, 12.365803884577955]\n",
            "Szerokość przedziału ufności: 0.0427\n"
          ]
        }
      ]
    },
    {
      "cell_type": "code",
      "source": [
        "# Błąd bezwzględny\n",
        "\n",
        "error = np.abs(est_I - real)\n",
        "print(f\"Błąd bezwzględny: {error:.4f}\")"
      ],
      "metadata": {
        "id": "-lC3wAECW_P0",
        "outputId": "db890bb1-3068-423d-8a4d-cad8b0a37cd2",
        "colab": {
          "base_uri": "https://localhost:8080/"
        }
      },
      "execution_count": 83,
      "outputs": [
        {
          "output_type": "stream",
          "name": "stdout",
          "text": [
            "Błąd bezwzględny: 0.0084\n"
          ]
        }
      ]
    }
  ]
}