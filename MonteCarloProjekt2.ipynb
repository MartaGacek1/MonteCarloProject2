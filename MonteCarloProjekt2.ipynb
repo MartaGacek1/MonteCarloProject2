{
  "nbformat": 4,
  "nbformat_minor": 0,
  "metadata": {
    "colab": {
      "provenance": [],
      "authorship_tag": "ABX9TyP6pGAKaL/gj7HhuhdPexXQ",
      "include_colab_link": true
    },
    "kernelspec": {
      "name": "python3",
      "display_name": "Python 3"
    },
    "language_info": {
      "name": "python"
    }
  },
  "cells": [
    {
      "cell_type": "markdown",
      "metadata": {
        "id": "view-in-github",
        "colab_type": "text"
      },
      "source": [
        "<a href=\"https://colab.research.google.com/github/MartaGacek1/MonteCarloProject2/blob/main/MonteCarloProjekt2.ipynb\" target=\"_parent\"><img src=\"https://colab.research.google.com/assets/colab-badge.svg\" alt=\"Open In Colab\"/></a>"
      ]
    },
    {
      "cell_type": "markdown",
      "source": [
        "# Projekt II - Wprowadzenie do symulacji i metod Monte Carlo\n",
        "\n",
        "## Marta Gacek"
      ],
      "metadata": {
        "id": "89PQrxQASVoX"
      }
    },
    {
      "cell_type": "code",
      "source": [
        "import numpy as np\n",
        "import matplotlib.pyplot as plt\n",
        "import scipy as sc\n",
        "import pandas as pd\n",
        "\n",
        "np.random.seed(123)\n",
        "\n",
        "S_0 = 100\n",
        "K = 100\n",
        "r = 0.05\n",
        "sigma = 0.25\n",
        "R = 8000"
      ],
      "metadata": {
        "id": "rnwdFoheSY87"
      },
      "execution_count": null,
      "outputs": []
    },
    {
      "cell_type": "markdown",
      "source": [
        "## 1. Prawdziwa wartość opcji\n",
        "\n",
        "Ta wartość zostanie wykorzystana do porównywania wyników w przypadkach gdy $n=1$ dla różnych estymatorów."
      ],
      "metadata": {
        "id": "PjJBfANJ-8q7"
      }
    },
    {
      "cell_type": "code",
      "source": [
        "d1 = (np.log(S_0/K) + r + sigma**2/2)/sigma\n",
        "d2 = d1 - sigma\n",
        "real_exp = S_0 * sc.stats.norm.cdf(d1) - K * np.exp(-r) * sc.stats.norm.cdf(d2)\n",
        "I_real = np.exp(-r) * real_exp\n",
        "print(I_real)"
      ],
      "metadata": {
        "colab": {
          "base_uri": "https://localhost:8080/"
        },
        "id": "NRL3M5_K_A30",
        "outputId": "92967d55-0fc1-4294-a7b1-98d972ddb2c3"
      },
      "execution_count": null,
      "outputs": [
        {
          "output_type": "stream",
          "name": "stdout",
          "text": [
            "11.734365163176058\n"
          ]
        }
      ]
    },
    {
      "cell_type": "markdown",
      "source": [
        "## 2. Crude Monte Carlo Estimator"
      ],
      "metadata": {
        "id": "ogdI1bzQS177"
      }
    },
    {
      "cell_type": "markdown",
      "source": [
        "### Przypadek $n=1$"
      ],
      "metadata": {
        "id": "x-FbryzAzbYY"
      }
    },
    {
      "cell_type": "code",
      "source": [
        "import numpy as np\n",
        "\n",
        "z = np.random.normal(0, 1, R)  # zmienne z rozkładu standardowego normalnego\n",
        "S_T = S_0 * np.exp(r - sigma**2/2 + sigma * z)  # geometryczny ruch Browna\n",
        "y = np.maximum(S_T - K, 0)\n",
        "est_I = np.exp(-r) * np.mean(y)\n",
        "\n",
        "print(f\"Estymowana wartość opcji dla n=1 to: {est_I:.4f}\")"
      ],
      "metadata": {
        "colab": {
          "base_uri": "https://localhost:8080/"
        },
        "id": "dZnZNnVmS-6E",
        "outputId": "73e2facf-bcf8-4af7-8ced-0e3acb0f27ca"
      },
      "execution_count": null,
      "outputs": [
        {
          "output_type": "stream",
          "name": "stdout",
          "text": [
            "Estymowana wartość opcji dla n=1 to: 12.3678\n"
          ]
        }
      ]
    },
    {
      "cell_type": "code",
      "source": [
        "# Przedział ufności\n",
        "\n",
        "alpha = 0.05\n",
        "sig = np.var(y)\n",
        "left = est_I - (sc.stats.norm.ppf(1-alpha/2) * np.sqrt(sig)/np.sqrt(R))\n",
        "right = est_I + (sc.stats.norm.ppf(1-alpha/2) * np.sqrt(sig)/np.sqrt(R))\n",
        "conf_interval = [left, right]\n",
        "conf_interval"
      ],
      "metadata": {
        "colab": {
          "base_uri": "https://localhost:8080/"
        },
        "id": "l_MGOI4m27u3",
        "outputId": "28571af9-5dd7-4308-8ac5-6dc0112bc45b"
      },
      "execution_count": null,
      "outputs": [
        {
          "output_type": "execute_result",
          "data": {
            "text/plain": [
              "[11.949637016954357, 12.78590047019925]"
            ]
          },
          "metadata": {},
          "execution_count": 5
        }
      ]
    },
    {
      "cell_type": "markdown",
      "source": [
        "### Przypadek $n > 1$"
      ],
      "metadata": {
        "id": "Am0oDSZX1Buj"
      }
    },
    {
      "cell_type": "code",
      "source": [
        "n = 50\n",
        "step = 1/n\n",
        "\n",
        "z = np.random.normal(0, 1, (R, n))\n",
        "prices = np.zeros((R, n))\n",
        "prices[:, 0] = S_0\n",
        "\n",
        "for t in range(1, n):\n",
        "    prices[:, t] = prices[:, t-1] * np.exp((r - sigma**2/2) * step + sigma * np.sqrt(step) * z[:, t-1])  # geometryczny ruch Browna\n",
        "\n",
        "A_n = np.mean(prices, axis=1)\n",
        "y = np.maximum(A_n - K, 0)\n",
        "est_I = np.exp(-r) * np.mean(y)\n",
        "\n",
        "print(f\"Estymowana wartość opcji dla n={n} wynosi: {est_I:.4f}\")\n",
        "#print(z)"
      ],
      "metadata": {
        "colab": {
          "base_uri": "https://localhost:8080/"
        },
        "id": "Q-k93rEC8fCb",
        "outputId": "9a4cc1d9-e768-4a07-f9ba-88fbe339b863"
      },
      "execution_count": null,
      "outputs": [
        {
          "output_type": "stream",
          "name": "stdout",
          "text": [
            "Estymowana wartość opcji dla n=50 wynosi: 6.8509\n"
          ]
        }
      ]
    },
    {
      "cell_type": "markdown",
      "source": [
        "## 3.Stratified Estimator"
      ],
      "metadata": {
        "id": "ZYtwXlOYPpSq"
      }
    },
    {
      "cell_type": "code",
      "source": [],
      "metadata": {
        "id": "3RURQbmpPumO"
      },
      "execution_count": null,
      "outputs": []
    },
    {
      "cell_type": "markdown",
      "source": [
        "## 4. Antithetic Estimator\n",
        "\n",
        "### Przypadek $n=1$"
      ],
      "metadata": {
        "id": "1_rVbtrO3K4K"
      }
    },
    {
      "cell_type": "code",
      "source": [
        "z = np.random.normal(0, 1, int(R/2))\n",
        "z_anty = -z  # zmienne antytetyczne\n",
        "S_T = S_0 * np.exp(r - sigma**2/2 + sigma * z)  # geometryczny ruch Browna\n",
        "S_T_anty = S_0 * np.exp(r - sigma**2/2 + sigma * z_anty)\n",
        "y = np.maximum(S_T - K, 0)\n",
        "y_anty = np.maximum(S_T - K, 0)\n",
        "est_I = np.exp(-r) * (np.mean(y) + np.mean(y_anty)) / 2  # średnia\n",
        "\n",
        "print(f\"Estymowana wartość opcji to: {est_I:.4f}\")"
      ],
      "metadata": {
        "colab": {
          "base_uri": "https://localhost:8080/"
        },
        "id": "CdjPKRhb5SGt",
        "outputId": "fc1b73c0-4e55-44df-b0a8-db179a70d192"
      },
      "execution_count": null,
      "outputs": [
        {
          "output_type": "stream",
          "name": "stdout",
          "text": [
            "Estymowana wartość opcji to: 12.2430\n"
          ]
        }
      ]
    },
    {
      "cell_type": "markdown",
      "source": [
        "### 5. Control Variate Estimator\n",
        "\n",
        "### Przypadek $n=1$"
      ],
      "metadata": {
        "id": "UYKREHRLCM10"
      }
    },
    {
      "cell_type": "code",
      "source": [
        "z = np.random.normal(0, 1, int(R))                       #czy tu R czy R/2?\n",
        "S_T = S_0 * np.exp(r - sigma**2/2 + sigma * z)  # geometryczny ruch Browna\n",
        "y = np.maximum(S_T - K, 0)\n",
        "X = z  # zmienna kontrolna B(1), bo z ~ N(0, 1)\n",
        "exp_X = 0  # znana wartość oczekiwana zmiennej B(1)\n",
        "est_I_cmc = np.exp(-r) * np.mean(y)  # Y_R^{CMC} \"z daszkiem\", wykorzystywany we wzorze\n",
        "X_R = np.mean(X)  # średnia, czyli X_R \"z daszkiem\"\n",
        "\n",
        "c1 = np.cov(y, X)[0, 1]\n",
        "c2 = np.var(X)\n",
        "c = c1 / c2  # współczynnik c\n",
        "\n",
        "est_I = est_I_cmc + c * (X_R - exp_X)                       # czy mnożymy przez np.exp(-r), czy to już jest ostateczny estymator?\n",
        "\n",
        "print(f\"Estymowana wartość opcji: {est_I:.4f}\")"
      ],
      "metadata": {
        "id": "HYt0MvqrCY2e",
        "colab": {
          "base_uri": "https://localhost:8080/"
        },
        "outputId": "39b6b170-a03e-46ac-9e2c-995ec6167c4e"
      },
      "execution_count": null,
      "outputs": [
        {
          "output_type": "stream",
          "name": "stdout",
          "text": [
            "Estymowana wartość opcji: 12.3906\n"
          ]
        }
      ]
    }
  ]
}